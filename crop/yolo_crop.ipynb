{
 "cells": [
  {
   "cell_type": "code",
   "execution_count": 7,
   "outputs": [],
   "source": [
    "import numpy as np\n",
    "import os\n",
    "from ultralytics import YOLO\n",
    "import cv2"
   ],
   "metadata": {
    "collapsed": false,
    "ExecuteTime": {
     "start_time": "2023-04-10T08:00:50.473226Z",
     "end_time": "2023-04-10T08:00:50.531888Z"
    }
   }
  },
  {
   "cell_type": "code",
   "execution_count": 34,
   "metadata": {
    "collapsed": true,
    "ExecuteTime": {
     "start_time": "2023-04-10T08:37:16.946661Z",
     "end_time": "2023-04-10T08:37:16.988049Z"
    }
   },
   "outputs": [],
   "source": [
    "class DetectedObject:\n",
    "    def __init__(self, bbox: list, label: str, conf: float):\n",
    "        self.bbox = bbox\n",
    "        self.label = label\n",
    "        self.conf = conf\n",
    "        self.xmin = int(bbox[0])\n",
    "        self.ymin = int(bbox[1])\n",
    "        self.xmax = int(bbox[2])\n",
    "        self.ymax = int(bbox[3])\n",
    "        self.width = self.xmax - self.xmin\n",
    "        self.height = self.ymax - self.ymin\n",
    "        self.depth: float = 0.0\n",
    "\n",
    "    def use_depth(self, depth: np.ndarray):\n",
    "        self.depth = np.mean(depth[self.ymin:self.ymax, self.xmin:self.xmax])\n",
    "\n",
    "    def __str__(self):\n",
    "        return f\"{self.label}-conf_{self.conf:.2f}-depth_{self.depth:.2f}-{self.width}x{self.height}\"\n"
   ]
  },
  {
   "cell_type": "code",
   "execution_count": 43,
   "outputs": [],
   "source": [
    "import time\n",
    "\n",
    "\n",
    "# get all objects in the image using given model\n",
    "# and use depth to calculate the depth of each object\n",
    "# sort the objects by xmin\n",
    "def get_objects(image_path: str, depth_path: str, model: YOLO) -> list[DetectedObject]:\n",
    "    results = model(image_path)[0].numpy()\n",
    "    objects = []\n",
    "    # if depth_path not exist, wait 5 seconds and try again\n",
    "    while not os.path.exists(depth_path):\n",
    "        print(f\"Waiting for {depth_path} to be generated\")\n",
    "        time.sleep(5)\n",
    "    depth_np = np.load(depth_path)\n",
    "    for box in results.boxes:\n",
    "        conf = box.conf[0]\n",
    "        label = model.names[int(box.cls[0])]\n",
    "        bbox = box.xyxy[0]\n",
    "        obj = DetectedObject(bbox, label, conf)\n",
    "        obj.use_depth(depth_np)\n",
    "        objects.append(obj)\n",
    "    objects.sort(key=lambda x: x.xmin)\n",
    "    return objects"
   ],
   "metadata": {
    "collapsed": false,
    "ExecuteTime": {
     "start_time": "2023-04-10T09:31:02.399335Z",
     "end_time": "2023-04-10T09:31:02.444397Z"
    }
   }
  },
  {
   "cell_type": "code",
   "execution_count": 36,
   "outputs": [],
   "source": [
    "# Image to be processed\n",
    "class Image:\n",
    "    def __init__(self, image_path: str, depth_np_path: str, depth_img_path: str):\n",
    "        self.image_path = image_path\n",
    "        self.image_name = os.path.basename(image_path)\n",
    "        self.depth_path = depth_np_path\n",
    "        self.depth_img_path = depth_img_path\n",
    "        self.depth_img_name = os.path.basename(depth_img_path)\n",
    "        self.objects: list[DetectedObject] = []\n",
    "\n",
    "    def detect_objects(self, model: YOLO):\n",
    "        self.objects = get_objects(self.image_path, self.depth_path, model)\n",
    "\n",
    "    # crop the image into objects\n",
    "    # and save it to the given directory\n",
    "    # using object's __str__ as the file name\n",
    "    def crop_img(self, save_dir: str):\n",
    "        # clear the directory\n",
    "        for file in os.listdir(save_dir):\n",
    "            os.remove(os.path.join(save_dir, file))\n",
    "        img = cv2.imread(self.image_path)\n",
    "        for i, obj in enumerate(self.objects):\n",
    "            crop_img = img[obj.ymin:obj.ymax, obj.xmin:obj.xmax]\n",
    "            cv2.imwrite(os.path.join(save_dir, f\"{i}-{obj}.jpg\"), crop_img)\n",
    "\n",
    "    # draw the bounding box of each object on the image\n",
    "    # on both the image and the depth image\n",
    "    # and save it to the given directory\n",
    "    # using image's name as the file name\n",
    "    def draw_bbox(self, save_dir: str):\n",
    "        img = cv2.imread(self.image_path)\n",
    "        depth_img = cv2.imread(self.depth_img_path)\n",
    "        color = (0, 255, 0)\n",
    "        thickness = 2\n",
    "        for obj in self.objects:\n",
    "            cv2.rectangle(img, (obj.xmin, obj.ymin), (obj.xmax, obj.ymax), color, thickness)\n",
    "            cv2.rectangle(depth_img, (obj.xmin, obj.ymin), (obj.xmax, obj.ymax), color, thickness)\n",
    "        cv2.imwrite(os.path.join(save_dir, self.image_name), img)\n",
    "        cv2.imwrite(os.path.join(save_dir, self.depth_img_name), depth_img)\n"
   ],
   "metadata": {
    "collapsed": false,
    "ExecuteTime": {
     "start_time": "2023-04-10T08:37:50.841650Z",
     "end_time": "2023-04-10T08:37:50.883907Z"
    }
   }
  },
  {
   "cell_type": "code",
   "execution_count": 37,
   "outputs": [],
   "source": [
    "# load yolo models\n",
    "def load_models() -> dict[str, YOLO]:\n",
    "    model8n = YOLO(\"yolov8n.pt\")\n",
    "    model8x = YOLO(\"yolov8x.pt\")\n",
    "    model8x6 = YOLO(\"yolov8x6.pt\")\n",
    "    models = {\n",
    "        \"yolov8n\": model8n,\n",
    "        \"yolov8x\": model8x,\n",
    "        \"yolov8x6\": model8x6\n",
    "    }\n",
    "    return models"
   ],
   "metadata": {
    "collapsed": false,
    "ExecuteTime": {
     "start_time": "2023-04-10T08:38:43.686990Z",
     "end_time": "2023-04-10T08:38:43.730229Z"
    }
   }
  },
  {
   "cell_type": "code",
   "execution_count": 38,
   "outputs": [],
   "source": [
    "def main():\n",
    "    # load model\n",
    "    models = load_models()\n",
    "    # load images\n",
    "    image_dir = \"../test\"\n",
    "    depth_dir = \"../depth\"\n",
    "    results_base_dir = \"../results\"\n",
    "    # for each image name, find the corresponding depth image and depth npy\n",
    "    for image_file in os.listdir(image_dir):\n",
    "        image_name = os.path.splitext(image_file)[0]\n",
    "        image_path = os.path.join(image_dir, image_file)\n",
    "        depth_dir_this_image = os.path.join(depth_dir, image_name)\n",
    "        depth_img_path = os.path.join(depth_dir_this_image, image_name + \".jpg\")\n",
    "        depth_np_path = os.path.join(depth_dir_this_image, image_name + \".npy\")\n",
    "        print(f\"Processing {image_path}: {depth_img_path}, {depth_np_path}\")\n",
    "        # create image object\n",
    "        image = Image(image_path, depth_np_path, depth_img_path)\n",
    "        # for each model, detect objects\n",
    "        for model_name, model in models.items():\n",
    "            print(f\"Detecting objects using {model_name}\")\n",
    "            image.detect_objects(model)\n",
    "            # crop the image into objects\n",
    "            crop_dir = os.path.join(results_base_dir, model_name, image_name, \"crop\")\n",
    "            os.makedirs(crop_dir, exist_ok=True)\n",
    "            image.crop_img(crop_dir)\n",
    "            # draw bounding box on the image\n",
    "            draw_dir = os.path.join(results_base_dir, model_name, image_name)\n",
    "            os.makedirs(draw_dir, exist_ok=True)\n",
    "            image.draw_bbox(draw_dir)\n"
   ],
   "metadata": {
    "collapsed": false,
    "ExecuteTime": {
     "start_time": "2023-04-10T08:38:46.011938Z",
     "end_time": "2023-04-10T08:38:46.020974Z"
    }
   }
  },
  {
   "cell_type": "code",
   "execution_count": 45,
   "outputs": [
    {
     "name": "stderr",
     "output_type": "stream",
     "text": [
      "\n",
      "image 1/1 /home/zkr/experiments/yolo/test/0000000001.png: 192x640 1 car, 1 bench, 41.4ms\n",
      "Speed: 0.3ms preprocess, 41.4ms inference, 0.9ms postprocess per image at shape (1, 3, 640, 640)\n"
     ]
    },
    {
     "name": "stdout",
     "output_type": "stream",
     "text": [
      "Processing ../test/0000000001.png: ../depth/0000000001/0000000001.jpg, ../depth/0000000001/0000000001.npy\n",
      "Detecting objects using yolov8n\n",
      "Waiting for ../depth/0000000001/0000000001.npy to be generated\n",
      "Waiting for ../depth/0000000001/0000000001.npy to be generated\n",
      "Waiting for ../depth/0000000001/0000000001.npy to be generated\n",
      "Detecting objects using yolov8x\n"
     ]
    },
    {
     "name": "stderr",
     "output_type": "stream",
     "text": [
      "\n",
      "image 1/1 /home/zkr/experiments/yolo/test/0000000001.png: 192x640 1 car, 1 bird, 1 chair, 840.7ms\n",
      "Speed: 50.5ms preprocess, 840.7ms inference, 1.2ms postprocess per image at shape (1, 3, 640, 640)\n"
     ]
    },
    {
     "name": "stdout",
     "output_type": "stream",
     "text": [
      "Detecting objects using yolov8x6\n"
     ]
    },
    {
     "name": "stderr",
     "output_type": "stream",
     "text": [
      "\n",
      "image 1/1 /home/zkr/experiments/yolo/test/0000000001.png: 384x1280 1 car, 2 birds, 2531.2ms\n",
      "Speed: 1.5ms preprocess, 2531.2ms inference, 1.2ms postprocess per image at shape (1, 3, 1280, 1280)\n",
      "\n",
      "image 1/1 /home/zkr/experiments/yolo/test/000587.png: 224x640 4 cars, 2 buss, 139.3ms\n",
      "Speed: 6.8ms preprocess, 139.3ms inference, 4.2ms postprocess per image at shape (1, 3, 640, 640)\n"
     ]
    },
    {
     "name": "stdout",
     "output_type": "stream",
     "text": [
      "Processing ../test/000587.png: ../depth/000587/000587.jpg, ../depth/000587/000587.npy\n",
      "Detecting objects using yolov8n\n"
     ]
    },
    {
     "name": "stderr",
     "output_type": "stream",
     "text": [
      "\n"
     ]
    },
    {
     "name": "stdout",
     "output_type": "stream",
     "text": [
      "Detecting objects using yolov8x\n"
     ]
    },
    {
     "name": "stderr",
     "output_type": "stream",
     "text": [
      "image 1/1 /home/zkr/experiments/yolo/test/000587.png: 224x640 8 cars, 2 buss, 792.2ms\n",
      "Speed: 0.4ms preprocess, 792.2ms inference, 1.0ms postprocess per image at shape (1, 3, 640, 640)\n",
      "\n"
     ]
    },
    {
     "name": "stdout",
     "output_type": "stream",
     "text": [
      "Detecting objects using yolov8x6\n"
     ]
    },
    {
     "name": "stderr",
     "output_type": "stream",
     "text": [
      "image 1/1 /home/zkr/experiments/yolo/test/000587.png: 448x1280 11 cars, 3 buss, 2882.5ms\n",
      "Speed: 1.6ms preprocess, 2882.5ms inference, 1.8ms postprocess per image at shape (1, 3, 1280, 1280)\n",
      "\n",
      "image 1/1 /home/zkr/experiments/yolo/test/000727.png: 224x640 2 cars, 54.2ms\n",
      "Speed: 3.3ms preprocess, 54.2ms inference, 1.1ms postprocess per image at shape (1, 3, 640, 640)\n",
      "\n"
     ]
    },
    {
     "name": "stdout",
     "output_type": "stream",
     "text": [
      "Processing ../test/000727.png: ../depth/000727/000727.jpg, ../depth/000727/000727.npy\n",
      "Detecting objects using yolov8n\n",
      "Detecting objects using yolov8x\n"
     ]
    },
    {
     "name": "stderr",
     "output_type": "stream",
     "text": [
      "image 1/1 /home/zkr/experiments/yolo/test/000727.png: 224x640 4 cars, 838.0ms\n",
      "Speed: 0.4ms preprocess, 838.0ms inference, 0.9ms postprocess per image at shape (1, 3, 640, 640)\n",
      "\n"
     ]
    },
    {
     "name": "stdout",
     "output_type": "stream",
     "text": [
      "Detecting objects using yolov8x6\n"
     ]
    },
    {
     "name": "stderr",
     "output_type": "stream",
     "text": [
      "image 1/1 /home/zkr/experiments/yolo/test/000727.png: 448x1280 4 cars, 1 bench, 3221.6ms\n",
      "Speed: 2.4ms preprocess, 3221.6ms inference, 1.6ms postprocess per image at shape (1, 3, 1280, 1280)\n",
      "\n",
      "image 1/1 /home/zkr/experiments/yolo/test/0000000003.png: 192x640 (no detections), 46.7ms\n",
      "Speed: 0.3ms preprocess, 46.7ms inference, 0.5ms postprocess per image at shape (1, 3, 640, 640)\n",
      "\n"
     ]
    },
    {
     "name": "stdout",
     "output_type": "stream",
     "text": [
      "Processing ../test/0000000003.png: ../depth/0000000003/0000000003.jpg, ../depth/0000000003/0000000003.npy\n",
      "Detecting objects using yolov8n\n",
      "Detecting objects using yolov8x\n"
     ]
    },
    {
     "name": "stderr",
     "output_type": "stream",
     "text": [
      "image 1/1 /home/zkr/experiments/yolo/test/0000000003.png: 192x640 1 car, 1213.0ms\n",
      "Speed: 0.3ms preprocess, 1213.0ms inference, 5.4ms postprocess per image at shape (1, 3, 640, 640)\n",
      "\n"
     ]
    },
    {
     "name": "stdout",
     "output_type": "stream",
     "text": [
      "Detecting objects using yolov8x6\n"
     ]
    },
    {
     "name": "stderr",
     "output_type": "stream",
     "text": [
      "image 1/1 /home/zkr/experiments/yolo/test/0000000003.png: 384x1280 1 stop sign, 2704.3ms\n",
      "Speed: 1.2ms preprocess, 2704.3ms inference, 1.7ms postprocess per image at shape (1, 3, 1280, 1280)\n",
      "\n",
      "image 1/1 /home/zkr/experiments/yolo/test/000277.png: 224x640 3 cars, 1 bus, 2 trucks, 78.9ms\n",
      "Speed: 0.5ms preprocess, 78.9ms inference, 1.4ms postprocess per image at shape (1, 3, 640, 640)\n"
     ]
    },
    {
     "name": "stdout",
     "output_type": "stream",
     "text": [
      "Processing ../test/000277.png: ../depth/000277/000277.jpg, ../depth/000277/000277.npy\n",
      "Detecting objects using yolov8n\n"
     ]
    },
    {
     "name": "stderr",
     "output_type": "stream",
     "text": [
      "\n"
     ]
    },
    {
     "name": "stdout",
     "output_type": "stream",
     "text": [
      "Detecting objects using yolov8x\n"
     ]
    },
    {
     "name": "stderr",
     "output_type": "stream",
     "text": [
      "image 1/1 /home/zkr/experiments/yolo/test/000277.png: 224x640 5 cars, 2 buss, 926.0ms\n",
      "Speed: 0.5ms preprocess, 926.0ms inference, 1.2ms postprocess per image at shape (1, 3, 640, 640)\n",
      "\n"
     ]
    },
    {
     "name": "stdout",
     "output_type": "stream",
     "text": [
      "Detecting objects using yolov8x6\n"
     ]
    },
    {
     "name": "stderr",
     "output_type": "stream",
     "text": [
      "image 1/1 /home/zkr/experiments/yolo/test/000277.png: 448x1280 5 cars, 1 bus, 2 trucks, 3434.1ms\n",
      "Speed: 17.7ms preprocess, 3434.1ms inference, 1.4ms postprocess per image at shape (1, 3, 1280, 1280)\n",
      "\n",
      "image 1/1 /home/zkr/experiments/yolo/test/000297.png: 224x640 8 cars, 1 truck, 54.9ms\n",
      "Speed: 0.6ms preprocess, 54.9ms inference, 1.2ms postprocess per image at shape (1, 3, 640, 640)\n",
      "\n"
     ]
    },
    {
     "name": "stdout",
     "output_type": "stream",
     "text": [
      "Processing ../test/000297.png: ../depth/000297/000297.jpg, ../depth/000297/000297.npy\n",
      "Detecting objects using yolov8n\n",
      "Detecting objects using yolov8x\n"
     ]
    },
    {
     "name": "stderr",
     "output_type": "stream",
     "text": [
      "image 1/1 /home/zkr/experiments/yolo/test/000297.png: 224x640 6 cars, 1 bus, 1 truck, 879.8ms\n",
      "Speed: 0.4ms preprocess, 879.8ms inference, 1.0ms postprocess per image at shape (1, 3, 640, 640)\n",
      "\n"
     ]
    },
    {
     "name": "stdout",
     "output_type": "stream",
     "text": [
      "Detecting objects using yolov8x6\n"
     ]
    },
    {
     "name": "stderr",
     "output_type": "stream",
     "text": [
      "image 1/1 /home/zkr/experiments/yolo/test/000297.png: 448x1280 7 cars, 1 truck, 3409.6ms\n",
      "Speed: 1.9ms preprocess, 3409.6ms inference, 1.4ms postprocess per image at shape (1, 3, 1280, 1280)\n",
      "\n",
      "image 1/1 /home/zkr/experiments/yolo/test/000017.png: 224x640 7 cars, 57.2ms\n",
      "Speed: 0.5ms preprocess, 57.2ms inference, 1.5ms postprocess per image at shape (1, 3, 640, 640)\n",
      "\n"
     ]
    },
    {
     "name": "stdout",
     "output_type": "stream",
     "text": [
      "Processing ../test/000017.png: ../depth/000017/000017.jpg, ../depth/000017/000017.npy\n",
      "Detecting objects using yolov8n\n",
      "Detecting objects using yolov8x\n"
     ]
    },
    {
     "name": "stderr",
     "output_type": "stream",
     "text": [
      "image 1/1 /home/zkr/experiments/yolo/test/000017.png: 224x640 12 cars, 988.9ms\n",
      "Speed: 0.9ms preprocess, 988.9ms inference, 1.3ms postprocess per image at shape (1, 3, 640, 640)\n",
      "\n"
     ]
    },
    {
     "name": "stdout",
     "output_type": "stream",
     "text": [
      "Detecting objects using yolov8x6\n"
     ]
    },
    {
     "name": "stderr",
     "output_type": "stream",
     "text": [
      "image 1/1 /home/zkr/experiments/yolo/test/000017.png: 448x1280 18 cars, 1 truck, 3971.0ms\n",
      "Speed: 2.5ms preprocess, 3971.0ms inference, 1.7ms postprocess per image at shape (1, 3, 1280, 1280)\n",
      "\n",
      "image 1/1 /home/zkr/experiments/yolo/test/000307.png: 224x640 1 car, 1 bus, 125.1ms\n",
      "Speed: 37.5ms preprocess, 125.1ms inference, 1.2ms postprocess per image at shape (1, 3, 640, 640)\n"
     ]
    },
    {
     "name": "stdout",
     "output_type": "stream",
     "text": [
      "Processing ../test/000307.png: ../depth/000307/000307.jpg, ../depth/000307/000307.npy\n",
      "Detecting objects using yolov8n\n"
     ]
    },
    {
     "name": "stderr",
     "output_type": "stream",
     "text": [
      "\n"
     ]
    },
    {
     "name": "stdout",
     "output_type": "stream",
     "text": [
      "Detecting objects using yolov8x\n"
     ]
    },
    {
     "name": "stderr",
     "output_type": "stream",
     "text": [
      "image 1/1 /home/zkr/experiments/yolo/test/000307.png: 224x640 2 cars, 1 bus, 1 truck, 1440.9ms\n",
      "Speed: 0.9ms preprocess, 1440.9ms inference, 1.5ms postprocess per image at shape (1, 3, 640, 640)\n",
      "\n"
     ]
    },
    {
     "name": "stdout",
     "output_type": "stream",
     "text": [
      "Detecting objects using yolov8x6\n"
     ]
    },
    {
     "name": "stderr",
     "output_type": "stream",
     "text": [
      "image 1/1 /home/zkr/experiments/yolo/test/000307.png: 448x1280 5 cars, 1 truck, 4373.7ms\n",
      "Speed: 1.6ms preprocess, 4373.7ms inference, 1.5ms postprocess per image at shape (1, 3, 1280, 1280)\n",
      "\n",
      "image 1/1 /home/zkr/experiments/yolo/test/000577.png: 224x640 7 cars, 2 buss, 1 stop sign, 61.6ms\n",
      "Speed: 0.4ms preprocess, 61.6ms inference, 1.5ms postprocess per image at shape (1, 3, 640, 640)\n",
      "\n"
     ]
    },
    {
     "name": "stdout",
     "output_type": "stream",
     "text": [
      "Processing ../test/000577.png: ../depth/000577/000577.jpg, ../depth/000577/000577.npy\n",
      "Detecting objects using yolov8n\n",
      "Detecting objects using yolov8x\n"
     ]
    },
    {
     "name": "stderr",
     "output_type": "stream",
     "text": [
      "image 1/1 /home/zkr/experiments/yolo/test/000577.png: 224x640 10 cars, 2 buss, 1 truck, 1054.2ms\n",
      "Speed: 0.5ms preprocess, 1054.2ms inference, 1.1ms postprocess per image at shape (1, 3, 640, 640)\n",
      "\n"
     ]
    },
    {
     "name": "stdout",
     "output_type": "stream",
     "text": [
      "Detecting objects using yolov8x6\n"
     ]
    },
    {
     "name": "stderr",
     "output_type": "stream",
     "text": [
      "image 1/1 /home/zkr/experiments/yolo/test/000577.png: 448x1280 11 cars, 3 buss, 1 truck, 4124.8ms\n",
      "Speed: 1.4ms preprocess, 4124.8ms inference, 12.9ms postprocess per image at shape (1, 3, 1280, 1280)\n",
      "\n",
      "image 1/1 /home/zkr/experiments/yolo/test/000417.png: 224x640 11 cars, 1 truck, 53.4ms\n",
      "Speed: 0.4ms preprocess, 53.4ms inference, 1.0ms postprocess per image at shape (1, 3, 640, 640)\n",
      "\n"
     ]
    },
    {
     "name": "stdout",
     "output_type": "stream",
     "text": [
      "Processing ../test/000417.png: ../depth/000417/000417.jpg, ../depth/000417/000417.npy\n",
      "Detecting objects using yolov8n\n",
      "Detecting objects using yolov8x\n"
     ]
    },
    {
     "name": "stderr",
     "output_type": "stream",
     "text": [
      "image 1/1 /home/zkr/experiments/yolo/test/000417.png: 224x640 9 cars, 1 bus, 1 traffic light, 1 stop sign, 900.2ms\n",
      "Speed: 0.4ms preprocess, 900.2ms inference, 1.1ms postprocess per image at shape (1, 3, 640, 640)\n",
      "\n"
     ]
    },
    {
     "name": "stdout",
     "output_type": "stream",
     "text": [
      "Detecting objects using yolov8x6\n"
     ]
    },
    {
     "name": "stderr",
     "output_type": "stream",
     "text": [
      "image 1/1 /home/zkr/experiments/yolo/test/000417.png: 448x1280 9 cars, 1 bus, 1 stop sign, 1 parking meter, 3559.3ms\n",
      "Speed: 1.7ms preprocess, 3559.3ms inference, 2.1ms postprocess per image at shape (1, 3, 1280, 1280)\n",
      "\n",
      "image 1/1 /home/zkr/experiments/yolo/test/000647.png: 224x640 1 car, 68.9ms\n",
      "Speed: 0.4ms preprocess, 68.9ms inference, 1.0ms postprocess per image at shape (1, 3, 640, 640)\n",
      "\n"
     ]
    },
    {
     "name": "stdout",
     "output_type": "stream",
     "text": [
      "Processing ../test/000647.png: ../depth/000647/000647.jpg, ../depth/000647/000647.npy\n",
      "Detecting objects using yolov8n\n",
      "Detecting objects using yolov8x\n"
     ]
    },
    {
     "name": "stderr",
     "output_type": "stream",
     "text": [
      "image 1/1 /home/zkr/experiments/yolo/test/000647.png: 224x640 2 cars, 894.7ms\n",
      "Speed: 0.4ms preprocess, 894.7ms inference, 1.1ms postprocess per image at shape (1, 3, 640, 640)\n",
      "\n"
     ]
    },
    {
     "name": "stdout",
     "output_type": "stream",
     "text": [
      "Detecting objects using yolov8x6\n"
     ]
    },
    {
     "name": "stderr",
     "output_type": "stream",
     "text": [
      "image 1/1 /home/zkr/experiments/yolo/test/000647.png: 448x1280 2 cars, 3344.1ms\n",
      "Speed: 1.7ms preprocess, 3344.1ms inference, 1.2ms postprocess per image at shape (1, 3, 1280, 1280)\n",
      "\n",
      "image 1/1 /home/zkr/experiments/yolo/test/000597.png: 224x640 3 cars, 2 buss, 1 truck, 138.0ms\n",
      "Speed: 0.7ms preprocess, 138.0ms inference, 1.1ms postprocess per image at shape (1, 3, 640, 640)\n"
     ]
    },
    {
     "name": "stdout",
     "output_type": "stream",
     "text": [
      "Processing ../test/000597.png: ../depth/000597/000597.jpg, ../depth/000597/000597.npy\n",
      "Detecting objects using yolov8n\n"
     ]
    },
    {
     "name": "stderr",
     "output_type": "stream",
     "text": [
      "\n"
     ]
    },
    {
     "name": "stdout",
     "output_type": "stream",
     "text": [
      "Detecting objects using yolov8x\n"
     ]
    },
    {
     "name": "stderr",
     "output_type": "stream",
     "text": [
      "image 1/1 /home/zkr/experiments/yolo/test/000597.png: 224x640 6 cars, 2 buss, 938.0ms\n",
      "Speed: 23.4ms preprocess, 938.0ms inference, 1.2ms postprocess per image at shape (1, 3, 640, 640)\n",
      "\n"
     ]
    },
    {
     "name": "stdout",
     "output_type": "stream",
     "text": [
      "Detecting objects using yolov8x6\n"
     ]
    },
    {
     "name": "stderr",
     "output_type": "stream",
     "text": [
      "image 1/1 /home/zkr/experiments/yolo/test/000597.png: 448x1280 5 cars, 2 buss, 3484.3ms\n",
      "Speed: 1.5ms preprocess, 3484.3ms inference, 1.4ms postprocess per image at shape (1, 3, 1280, 1280)\n",
      "\n",
      "image 1/1 /home/zkr/experiments/yolo/test/000167.png: 224x640 11 cars, 2 trucks, 56.2ms\n",
      "Speed: 0.4ms preprocess, 56.2ms inference, 1.3ms postprocess per image at shape (1, 3, 640, 640)\n",
      "\n"
     ]
    },
    {
     "name": "stdout",
     "output_type": "stream",
     "text": [
      "Processing ../test/000167.png: ../depth/000167/000167.jpg, ../depth/000167/000167.npy\n",
      "Detecting objects using yolov8n\n",
      "Detecting objects using yolov8x\n"
     ]
    },
    {
     "name": "stderr",
     "output_type": "stream",
     "text": [
      "image 1/1 /home/zkr/experiments/yolo/test/000167.png: 224x640 12 cars, 4 trucks, 867.3ms\n",
      "Speed: 20.8ms preprocess, 867.3ms inference, 1.4ms postprocess per image at shape (1, 3, 640, 640)\n",
      "\n"
     ]
    },
    {
     "name": "stdout",
     "output_type": "stream",
     "text": [
      "Detecting objects using yolov8x6\n"
     ]
    },
    {
     "name": "stderr",
     "output_type": "stream",
     "text": [
      "image 1/1 /home/zkr/experiments/yolo/test/000167.png: 448x1280 12 cars, 4 trucks, 3281.1ms\n",
      "Speed: 1.5ms preprocess, 3281.1ms inference, 1.2ms postprocess per image at shape (1, 3, 1280, 1280)\n",
      "\n",
      "image 1/1 /home/zkr/experiments/yolo/test/000347.png: 224x640 9 cars, 151.2ms\n",
      "Speed: 8.0ms preprocess, 151.2ms inference, 1.1ms postprocess per image at shape (1, 3, 640, 640)\n"
     ]
    },
    {
     "name": "stdout",
     "output_type": "stream",
     "text": [
      "Processing ../test/000347.png: ../depth/000347/000347.jpg, ../depth/000347/000347.npy\n",
      "Detecting objects using yolov8n\n"
     ]
    },
    {
     "name": "stderr",
     "output_type": "stream",
     "text": [
      "\n"
     ]
    },
    {
     "name": "stdout",
     "output_type": "stream",
     "text": [
      "Detecting objects using yolov8x\n"
     ]
    },
    {
     "name": "stderr",
     "output_type": "stream",
     "text": [
      "image 1/1 /home/zkr/experiments/yolo/test/000347.png: 224x640 9 cars, 881.9ms\n",
      "Speed: 5.3ms preprocess, 881.9ms inference, 1.1ms postprocess per image at shape (1, 3, 640, 640)\n",
      "\n"
     ]
    },
    {
     "name": "stdout",
     "output_type": "stream",
     "text": [
      "Detecting objects using yolov8x6\n"
     ]
    },
    {
     "name": "stderr",
     "output_type": "stream",
     "text": [
      "image 1/1 /home/zkr/experiments/yolo/test/000347.png: 448x1280 1 person, 11 cars, 3333.0ms\n",
      "Speed: 42.6ms preprocess, 3333.0ms inference, 1.9ms postprocess per image at shape (1, 3, 1280, 1280)\n",
      "\n",
      "image 1/1 /home/zkr/experiments/yolo/test/000207.png: 224x640 2 persons, 5 cars, 1 bus, 1 truck, 54.3ms\n",
      "Speed: 0.6ms preprocess, 54.3ms inference, 1.0ms postprocess per image at shape (1, 3, 640, 640)\n",
      "\n"
     ]
    },
    {
     "name": "stdout",
     "output_type": "stream",
     "text": [
      "Processing ../test/000207.png: ../depth/000207/000207.jpg, ../depth/000207/000207.npy\n",
      "Detecting objects using yolov8n\n",
      "Detecting objects using yolov8x\n"
     ]
    },
    {
     "name": "stderr",
     "output_type": "stream",
     "text": [
      "image 1/1 /home/zkr/experiments/yolo/test/000207.png: 224x640 8 cars, 2 buss, 1 truck, 950.8ms\n",
      "Speed: 0.4ms preprocess, 950.8ms inference, 1.1ms postprocess per image at shape (1, 3, 640, 640)\n",
      "\n"
     ]
    },
    {
     "name": "stdout",
     "output_type": "stream",
     "text": [
      "Detecting objects using yolov8x6\n"
     ]
    },
    {
     "name": "stderr",
     "output_type": "stream",
     "text": [
      "image 1/1 /home/zkr/experiments/yolo/test/000207.png: 448x1280 7 cars, 3 trucks, 1 parking meter, 1 giraffe, 3728.7ms\n",
      "Speed: 2.3ms preprocess, 3728.7ms inference, 1.4ms postprocess per image at shape (1, 3, 1280, 1280)\n",
      "\n",
      "image 1/1 /home/zkr/experiments/yolo/test/000657.png: 224x640 2 cars, 54.5ms\n",
      "Speed: 0.3ms preprocess, 54.5ms inference, 1.0ms postprocess per image at shape (1, 3, 640, 640)\n",
      "\n"
     ]
    },
    {
     "name": "stdout",
     "output_type": "stream",
     "text": [
      "Processing ../test/000657.png: ../depth/000657/000657.jpg, ../depth/000657/000657.npy\n",
      "Detecting objects using yolov8n\n",
      "Detecting objects using yolov8x\n"
     ]
    },
    {
     "name": "stderr",
     "output_type": "stream",
     "text": [
      "image 1/1 /home/zkr/experiments/yolo/test/000657.png: 224x640 4 cars, 868.9ms\n",
      "Speed: 0.3ms preprocess, 868.9ms inference, 1.1ms postprocess per image at shape (1, 3, 640, 640)\n",
      "\n"
     ]
    },
    {
     "name": "stdout",
     "output_type": "stream",
     "text": [
      "Detecting objects using yolov8x6\n"
     ]
    },
    {
     "name": "stderr",
     "output_type": "stream",
     "text": [
      "image 1/1 /home/zkr/experiments/yolo/test/000657.png: 448x1280 4 cars, 3370.0ms\n",
      "Speed: 1.7ms preprocess, 3370.0ms inference, 1.4ms postprocess per image at shape (1, 3, 1280, 1280)\n",
      "\n",
      "image 1/1 /home/zkr/experiments/yolo/test/000397.png: 224x640 6 cars, 65.4ms\n",
      "Speed: 0.5ms preprocess, 65.4ms inference, 1.1ms postprocess per image at shape (1, 3, 640, 640)\n"
     ]
    },
    {
     "name": "stdout",
     "output_type": "stream",
     "text": [
      "Processing ../test/000397.png: ../depth/000397/000397.jpg, ../depth/000397/000397.npy\n",
      "Detecting objects using yolov8n\n"
     ]
    },
    {
     "name": "stderr",
     "output_type": "stream",
     "text": [
      "\n"
     ]
    },
    {
     "name": "stdout",
     "output_type": "stream",
     "text": [
      "Detecting objects using yolov8x\n"
     ]
    },
    {
     "name": "stderr",
     "output_type": "stream",
     "text": [
      "image 1/1 /home/zkr/experiments/yolo/test/000397.png: 224x640 6 cars, 1 truck, 1 traffic light, 1015.7ms\n",
      "Speed: 21.7ms preprocess, 1015.7ms inference, 1.8ms postprocess per image at shape (1, 3, 640, 640)\n",
      "\n"
     ]
    },
    {
     "name": "stdout",
     "output_type": "stream",
     "text": [
      "Detecting objects using yolov8x6\n"
     ]
    },
    {
     "name": "stderr",
     "output_type": "stream",
     "text": [
      "image 1/1 /home/zkr/experiments/yolo/test/000397.png: 448x1280 8 cars, 1 truck, 3440.3ms\n",
      "Speed: 11.0ms preprocess, 3440.3ms inference, 1.4ms postprocess per image at shape (1, 3, 1280, 1280)\n",
      "\n",
      "image 1/1 /home/zkr/experiments/yolo/test/000157.png: 224x640 8 cars, 1 truck, 56.0ms\n",
      "Speed: 0.4ms preprocess, 56.0ms inference, 1.4ms postprocess per image at shape (1, 3, 640, 640)\n",
      "\n"
     ]
    },
    {
     "name": "stdout",
     "output_type": "stream",
     "text": [
      "Processing ../test/000157.png: ../depth/000157/000157.jpg, ../depth/000157/000157.npy\n",
      "Detecting objects using yolov8n\n",
      "Detecting objects using yolov8x\n"
     ]
    },
    {
     "name": "stderr",
     "output_type": "stream",
     "text": [
      "image 1/1 /home/zkr/experiments/yolo/test/000157.png: 224x640 11 cars, 1 bus, 1 truck, 909.4ms\n",
      "Speed: 0.8ms preprocess, 909.4ms inference, 0.9ms postprocess per image at shape (1, 3, 640, 640)\n",
      "\n"
     ]
    },
    {
     "name": "stdout",
     "output_type": "stream",
     "text": [
      "Detecting objects using yolov8x6\n"
     ]
    },
    {
     "name": "stderr",
     "output_type": "stream",
     "text": [
      "image 1/1 /home/zkr/experiments/yolo/test/000157.png: 448x1280 11 cars, 3 trucks, 3354.9ms\n",
      "Speed: 1.8ms preprocess, 3354.9ms inference, 1.8ms postprocess per image at shape (1, 3, 1280, 1280)\n",
      "\n",
      "image 1/1 /home/zkr/experiments/yolo/test/000007.png: 224x640 7 cars, 56.3ms\n",
      "Speed: 0.6ms preprocess, 56.3ms inference, 0.9ms postprocess per image at shape (1, 3, 640, 640)\n",
      "\n"
     ]
    },
    {
     "name": "stdout",
     "output_type": "stream",
     "text": [
      "Processing ../test/000007.png: ../depth/000007/000007.jpg, ../depth/000007/000007.npy\n",
      "Detecting objects using yolov8n\n",
      "Detecting objects using yolov8x\n"
     ]
    },
    {
     "name": "stderr",
     "output_type": "stream",
     "text": [
      "image 1/1 /home/zkr/experiments/yolo/test/000007.png: 224x640 12 cars, 1 parking meter, 792.3ms\n",
      "Speed: 38.4ms preprocess, 792.3ms inference, 0.9ms postprocess per image at shape (1, 3, 640, 640)\n",
      "\n"
     ]
    },
    {
     "name": "stdout",
     "output_type": "stream",
     "text": [
      "Detecting objects using yolov8x6\n"
     ]
    },
    {
     "name": "stderr",
     "output_type": "stream",
     "text": [
      "image 1/1 /home/zkr/experiments/yolo/test/000007.png: 448x1280 18 cars, 2045.4ms\n",
      "Speed: 1.4ms preprocess, 2045.4ms inference, 1.3ms postprocess per image at shape (1, 3, 1280, 1280)\n",
      "\n",
      "image 1/1 /home/zkr/experiments/yolo/test/000707.png: 224x640 2 cars, 46.8ms\n",
      "Speed: 0.4ms preprocess, 46.8ms inference, 1.3ms postprocess per image at shape (1, 3, 640, 640)\n",
      "\n"
     ]
    },
    {
     "name": "stdout",
     "output_type": "stream",
     "text": [
      "Processing ../test/000707.png: ../depth/000707/000707.jpg, ../depth/000707/000707.npy\n",
      "Detecting objects using yolov8n\n",
      "Detecting objects using yolov8x\n"
     ]
    },
    {
     "name": "stderr",
     "output_type": "stream",
     "text": [
      "image 1/1 /home/zkr/experiments/yolo/test/000707.png: 224x640 4 cars, 594.7ms\n",
      "Speed: 0.3ms preprocess, 594.7ms inference, 0.9ms postprocess per image at shape (1, 3, 640, 640)\n",
      "\n"
     ]
    },
    {
     "name": "stdout",
     "output_type": "stream",
     "text": [
      "Detecting objects using yolov8x6\n"
     ]
    },
    {
     "name": "stderr",
     "output_type": "stream",
     "text": [
      "image 1/1 /home/zkr/experiments/yolo/test/000707.png: 448x1280 5 cars, 1 bench, 2043.8ms\n",
      "Speed: 1.4ms preprocess, 2043.8ms inference, 1.1ms postprocess per image at shape (1, 3, 1280, 1280)\n",
      "\n",
      "image 1/1 /home/zkr/experiments/yolo/test/000337.png: 224x640 7 cars, 1 truck, 45.4ms\n",
      "Speed: 0.4ms preprocess, 45.4ms inference, 0.9ms postprocess per image at shape (1, 3, 640, 640)\n",
      "\n"
     ]
    },
    {
     "name": "stdout",
     "output_type": "stream",
     "text": [
      "Processing ../test/000337.png: ../depth/000337/000337.jpg, ../depth/000337/000337.npy\n",
      "Detecting objects using yolov8n\n",
      "Detecting objects using yolov8x\n"
     ]
    },
    {
     "name": "stderr",
     "output_type": "stream",
     "text": [
      "image 1/1 /home/zkr/experiments/yolo/test/000337.png: 224x640 8 cars, 1 truck, 496.1ms\n",
      "Speed: 0.3ms preprocess, 496.1ms inference, 1.1ms postprocess per image at shape (1, 3, 640, 640)\n",
      "\n"
     ]
    },
    {
     "name": "stdout",
     "output_type": "stream",
     "text": [
      "Detecting objects using yolov8x6\n"
     ]
    },
    {
     "name": "stderr",
     "output_type": "stream",
     "text": [
      "image 1/1 /home/zkr/experiments/yolo/test/000337.png: 448x1280 8 cars, 1 truck, 2285.0ms\n",
      "Speed: 1.9ms preprocess, 2285.0ms inference, 1.5ms postprocess per image at shape (1, 3, 1280, 1280)\n",
      "\n",
      "image 1/1 /home/zkr/experiments/yolo/test/000767.png: 224x640 3 cars, 59.7ms\n",
      "Speed: 0.5ms preprocess, 59.7ms inference, 0.9ms postprocess per image at shape (1, 3, 640, 640)\n",
      "\n"
     ]
    },
    {
     "name": "stdout",
     "output_type": "stream",
     "text": [
      "Processing ../test/000767.png: ../depth/000767/000767.jpg, ../depth/000767/000767.npy\n",
      "Detecting objects using yolov8n\n",
      "Detecting objects using yolov8x\n"
     ]
    },
    {
     "name": "stderr",
     "output_type": "stream",
     "text": [
      "image 1/1 /home/zkr/experiments/yolo/test/000767.png: 224x640 9 cars, 578.1ms\n",
      "Speed: 0.4ms preprocess, 578.1ms inference, 0.9ms postprocess per image at shape (1, 3, 640, 640)\n",
      "\n"
     ]
    },
    {
     "name": "stdout",
     "output_type": "stream",
     "text": [
      "Detecting objects using yolov8x6\n"
     ]
    },
    {
     "name": "stderr",
     "output_type": "stream",
     "text": [
      "image 1/1 /home/zkr/experiments/yolo/test/000767.png: 448x1280 8 cars, 3 traffic lights, 2283.4ms\n",
      "Speed: 2.1ms preprocess, 2283.4ms inference, 1.2ms postprocess per image at shape (1, 3, 1280, 1280)\n",
      "\n",
      "image 1/1 /home/zkr/experiments/yolo/test/000127.png: 224x640 12 cars, 1 truck, 52.0ms\n",
      "Speed: 0.4ms preprocess, 52.0ms inference, 0.9ms postprocess per image at shape (1, 3, 640, 640)\n",
      "\n"
     ]
    },
    {
     "name": "stdout",
     "output_type": "stream",
     "text": [
      "Processing ../test/000127.png: ../depth/000127/000127.jpg, ../depth/000127/000127.npy\n",
      "Detecting objects using yolov8n\n",
      "Detecting objects using yolov8x\n"
     ]
    },
    {
     "name": "stderr",
     "output_type": "stream",
     "text": [
      "image 1/1 /home/zkr/experiments/yolo/test/000127.png: 224x640 10 cars, 1 bus, 2 stop signs, 553.3ms\n",
      "Speed: 0.4ms preprocess, 553.3ms inference, 1.3ms postprocess per image at shape (1, 3, 640, 640)\n",
      "\n"
     ]
    },
    {
     "name": "stdout",
     "output_type": "stream",
     "text": [
      "Detecting objects using yolov8x6\n"
     ]
    },
    {
     "name": "stderr",
     "output_type": "stream",
     "text": [
      "image 1/1 /home/zkr/experiments/yolo/test/000127.png: 448x1280 10 cars, 4 trucks, 2103.9ms\n",
      "Speed: 1.4ms preprocess, 2103.9ms inference, 1.2ms postprocess per image at shape (1, 3, 1280, 1280)\n",
      "\n",
      "image 1/1 /home/zkr/experiments/yolo/test/000797.png: 224x640 3 cars, 62.2ms\n",
      "Speed: 2.8ms preprocess, 62.2ms inference, 1.4ms postprocess per image at shape (1, 3, 640, 640)\n",
      "\n"
     ]
    },
    {
     "name": "stdout",
     "output_type": "stream",
     "text": [
      "Processing ../test/000797.png: ../depth/000797/000797.jpg, ../depth/000797/000797.npy\n",
      "Detecting objects using yolov8n\n",
      "Detecting objects using yolov8x\n"
     ]
    },
    {
     "name": "stderr",
     "output_type": "stream",
     "text": [
      "image 1/1 /home/zkr/experiments/yolo/test/000797.png: 224x640 4 cars, 4 traffic lights, 633.1ms\n",
      "Speed: 0.4ms preprocess, 633.1ms inference, 0.9ms postprocess per image at shape (1, 3, 640, 640)\n",
      "\n"
     ]
    },
    {
     "name": "stdout",
     "output_type": "stream",
     "text": [
      "Detecting objects using yolov8x6\n"
     ]
    },
    {
     "name": "stderr",
     "output_type": "stream",
     "text": [
      "image 1/1 /home/zkr/experiments/yolo/test/000797.png: 448x1280 9 cars, 4 traffic lights, 2040.0ms\n",
      "Speed: 1.5ms preprocess, 2040.0ms inference, 1.2ms postprocess per image at shape (1, 3, 1280, 1280)\n",
      "\n",
      "image 1/1 /home/zkr/experiments/yolo/test/000057.png: 224x640 8 cars, 50.6ms\n",
      "Speed: 0.5ms preprocess, 50.6ms inference, 1.0ms postprocess per image at shape (1, 3, 640, 640)\n",
      "\n"
     ]
    },
    {
     "name": "stdout",
     "output_type": "stream",
     "text": [
      "Processing ../test/000057.png: ../depth/000057/000057.jpg, ../depth/000057/000057.npy\n",
      "Detecting objects using yolov8n\n",
      "Detecting objects using yolov8x\n"
     ]
    },
    {
     "name": "stderr",
     "output_type": "stream",
     "text": [
      "image 1/1 /home/zkr/experiments/yolo/test/000057.png: 224x640 12 cars, 1 truck, 1 stop sign, 534.1ms\n",
      "Speed: 0.4ms preprocess, 534.1ms inference, 0.9ms postprocess per image at shape (1, 3, 640, 640)\n",
      "\n"
     ]
    },
    {
     "name": "stdout",
     "output_type": "stream",
     "text": [
      "Detecting objects using yolov8x6\n"
     ]
    },
    {
     "name": "stderr",
     "output_type": "stream",
     "text": [
      "image 1/1 /home/zkr/experiments/yolo/test/000057.png: 448x1280 14 cars, 1 truck, 2038.9ms\n",
      "Speed: 1.4ms preprocess, 2038.9ms inference, 1.2ms postprocess per image at shape (1, 3, 1280, 1280)\n",
      "\n",
      "image 1/1 /home/zkr/experiments/yolo/test/000787.png: 224x640 1 person, 4 cars, 1 traffic light, 48.6ms\n",
      "Speed: 0.4ms preprocess, 48.6ms inference, 0.8ms postprocess per image at shape (1, 3, 640, 640)\n",
      "\n"
     ]
    },
    {
     "name": "stdout",
     "output_type": "stream",
     "text": [
      "Processing ../test/000787.png: ../depth/000787/000787.jpg, ../depth/000787/000787.npy\n",
      "Detecting objects using yolov8n\n",
      "Detecting objects using yolov8x\n"
     ]
    },
    {
     "name": "stderr",
     "output_type": "stream",
     "text": [
      "image 1/1 /home/zkr/experiments/yolo/test/000787.png: 224x640 6 cars, 2 traffic lights, 548.6ms\n",
      "Speed: 0.3ms preprocess, 548.6ms inference, 0.9ms postprocess per image at shape (1, 3, 640, 640)\n",
      "\n"
     ]
    },
    {
     "name": "stdout",
     "output_type": "stream",
     "text": [
      "Detecting objects using yolov8x6\n"
     ]
    },
    {
     "name": "stderr",
     "output_type": "stream",
     "text": [
      "image 1/1 /home/zkr/experiments/yolo/test/000787.png: 448x1280 10 cars, 5 traffic lights, 2155.6ms\n",
      "Speed: 1.3ms preprocess, 2155.6ms inference, 1.4ms postprocess per image at shape (1, 3, 1280, 1280)\n",
      "\n",
      "image 1/1 /home/zkr/experiments/yolo/test/000507.png: 224x640 7 cars, 1 bus, 3 trucks, 61.0ms\n",
      "Speed: 0.4ms preprocess, 61.0ms inference, 1.2ms postprocess per image at shape (1, 3, 640, 640)\n",
      "\n"
     ]
    },
    {
     "name": "stdout",
     "output_type": "stream",
     "text": [
      "Processing ../test/000507.png: ../depth/000507/000507.jpg, ../depth/000507/000507.npy\n",
      "Detecting objects using yolov8n\n",
      "Detecting objects using yolov8x\n"
     ]
    },
    {
     "name": "stderr",
     "output_type": "stream",
     "text": [
      "image 1/1 /home/zkr/experiments/yolo/test/000507.png: 224x640 6 cars, 1 truck, 578.1ms\n",
      "Speed: 0.9ms preprocess, 578.1ms inference, 1.1ms postprocess per image at shape (1, 3, 640, 640)\n",
      "\n"
     ]
    },
    {
     "name": "stdout",
     "output_type": "stream",
     "text": [
      "Detecting objects using yolov8x6\n"
     ]
    },
    {
     "name": "stderr",
     "output_type": "stream",
     "text": [
      "image 1/1 /home/zkr/experiments/yolo/test/000507.png: 448x1280 7 cars, 5 trucks, 2939.9ms\n",
      "Speed: 1.5ms preprocess, 2939.9ms inference, 1.7ms postprocess per image at shape (1, 3, 1280, 1280)\n",
      "\n",
      "image 1/1 /home/zkr/experiments/yolo/test/000027.png: 224x640 9 cars, 61.3ms\n",
      "Speed: 0.6ms preprocess, 61.3ms inference, 0.9ms postprocess per image at shape (1, 3, 640, 640)\n",
      "\n"
     ]
    },
    {
     "name": "stdout",
     "output_type": "stream",
     "text": [
      "Processing ../test/000027.png: ../depth/000027/000027.jpg, ../depth/000027/000027.npy\n",
      "Detecting objects using yolov8n\n",
      "Detecting objects using yolov8x\n"
     ]
    },
    {
     "name": "stderr",
     "output_type": "stream",
     "text": [
      "image 1/1 /home/zkr/experiments/yolo/test/000027.png: 224x640 13 cars, 650.0ms\n",
      "Speed: 1.5ms preprocess, 650.0ms inference, 1.1ms postprocess per image at shape (1, 3, 640, 640)\n",
      "\n"
     ]
    },
    {
     "name": "stdout",
     "output_type": "stream",
     "text": [
      "Detecting objects using yolov8x6\n"
     ]
    },
    {
     "name": "stderr",
     "output_type": "stream",
     "text": [
      "image 1/1 /home/zkr/experiments/yolo/test/000027.png: 448x1280 15 cars, 2272.4ms\n",
      "Speed: 2.1ms preprocess, 2272.4ms inference, 1.3ms postprocess per image at shape (1, 3, 1280, 1280)\n",
      "\n",
      "image 1/1 /home/zkr/experiments/yolo/test/0000000005.png: 192x640 (no detections), 41.8ms\n",
      "Speed: 0.3ms preprocess, 41.8ms inference, 0.5ms postprocess per image at shape (1, 3, 640, 640)\n",
      "\n"
     ]
    },
    {
     "name": "stdout",
     "output_type": "stream",
     "text": [
      "Processing ../test/0000000005.png: ../depth/0000000005/0000000005.jpg, ../depth/0000000005/0000000005.npy\n",
      "Detecting objects using yolov8n\n",
      "Detecting objects using yolov8x\n"
     ]
    },
    {
     "name": "stderr",
     "output_type": "stream",
     "text": [
      "image 1/1 /home/zkr/experiments/yolo/test/0000000005.png: 192x640 (no detections), 562.9ms\n",
      "Speed: 0.4ms preprocess, 562.9ms inference, 0.4ms postprocess per image at shape (1, 3, 640, 640)\n",
      "\n"
     ]
    },
    {
     "name": "stdout",
     "output_type": "stream",
     "text": [
      "Detecting objects using yolov8x6\n"
     ]
    },
    {
     "name": "stderr",
     "output_type": "stream",
     "text": [
      "image 1/1 /home/zkr/experiments/yolo/test/0000000005.png: 384x1280 (no detections), 1824.6ms\n",
      "Speed: 1.5ms preprocess, 1824.6ms inference, 0.6ms postprocess per image at shape (1, 3, 1280, 1280)\n",
      "\n",
      "image 1/1 /home/zkr/experiments/yolo/test/000427.png: 224x640 5 cars, 1 traffic light, 1 stop sign, 48.5ms\n",
      "Speed: 0.6ms preprocess, 48.5ms inference, 1.0ms postprocess per image at shape (1, 3, 640, 640)\n",
      "\n"
     ]
    },
    {
     "name": "stdout",
     "output_type": "stream",
     "text": [
      "Processing ../test/000427.png: ../depth/000427/000427.jpg, ../depth/000427/000427.npy\n",
      "Detecting objects using yolov8n\n",
      "Detecting objects using yolov8x\n"
     ]
    },
    {
     "name": "stderr",
     "output_type": "stream",
     "text": [
      "image 1/1 /home/zkr/experiments/yolo/test/000427.png: 224x640 2 bicycles, 7 cars, 1 bus, 560.6ms\n",
      "Speed: 0.4ms preprocess, 560.6ms inference, 0.9ms postprocess per image at shape (1, 3, 640, 640)\n",
      "\n"
     ]
    },
    {
     "name": "stdout",
     "output_type": "stream",
     "text": [
      "Detecting objects using yolov8x6\n"
     ]
    },
    {
     "name": "stderr",
     "output_type": "stream",
     "text": [
      "image 1/1 /home/zkr/experiments/yolo/test/000427.png: 448x1280 2 bicycles, 8 cars, 1 bus, 1 stop sign, 2186.0ms\n",
      "Speed: 1.6ms preprocess, 2186.0ms inference, 1.2ms postprocess per image at shape (1, 3, 1280, 1280)\n",
      "\n",
      "image 1/1 /home/zkr/experiments/yolo/test/000477.png: 224x640 6 cars, 50.2ms\n",
      "Speed: 0.3ms preprocess, 50.2ms inference, 1.0ms postprocess per image at shape (1, 3, 640, 640)\n",
      "\n"
     ]
    },
    {
     "name": "stdout",
     "output_type": "stream",
     "text": [
      "Processing ../test/000477.png: ../depth/000477/000477.jpg, ../depth/000477/000477.npy\n",
      "Detecting objects using yolov8n\n",
      "Detecting objects using yolov8x\n"
     ]
    },
    {
     "name": "stderr",
     "output_type": "stream",
     "text": [
      "image 1/1 /home/zkr/experiments/yolo/test/000477.png: 224x640 8 cars, 2 trucks, 502.7ms\n",
      "Speed: 0.6ms preprocess, 502.7ms inference, 0.9ms postprocess per image at shape (1, 3, 640, 640)\n",
      "\n"
     ]
    },
    {
     "name": "stdout",
     "output_type": "stream",
     "text": [
      "Detecting objects using yolov8x6\n"
     ]
    },
    {
     "name": "stderr",
     "output_type": "stream",
     "text": [
      "image 1/1 /home/zkr/experiments/yolo/test/000477.png: 448x1280 8 cars, 3 trucks, 2085.9ms\n",
      "Speed: 1.5ms preprocess, 2085.9ms inference, 1.3ms postprocess per image at shape (1, 3, 1280, 1280)\n",
      "\n",
      "image 1/1 /home/zkr/experiments/yolo/test/000607.png: 224x640 5 cars, 1 bus, 1 truck, 49.8ms\n",
      "Speed: 0.5ms preprocess, 49.8ms inference, 0.9ms postprocess per image at shape (1, 3, 640, 640)\n",
      "\n"
     ]
    },
    {
     "name": "stdout",
     "output_type": "stream",
     "text": [
      "Processing ../test/000607.png: ../depth/000607/000607.jpg, ../depth/000607/000607.npy\n",
      "Detecting objects using yolov8n\n",
      "Detecting objects using yolov8x\n"
     ]
    },
    {
     "name": "stderr",
     "output_type": "stream",
     "text": [
      "image 1/1 /home/zkr/experiments/yolo/test/000607.png: 224x640 6 cars, 2 buss, 509.7ms\n",
      "Speed: 0.8ms preprocess, 509.7ms inference, 0.9ms postprocess per image at shape (1, 3, 640, 640)\n",
      "\n"
     ]
    },
    {
     "name": "stdout",
     "output_type": "stream",
     "text": [
      "Detecting objects using yolov8x6\n"
     ]
    },
    {
     "name": "stderr",
     "output_type": "stream",
     "text": [
      "image 1/1 /home/zkr/experiments/yolo/test/000607.png: 448x1280 1 person, 6 cars, 2 buss, 2088.7ms\n",
      "Speed: 2.0ms preprocess, 2088.7ms inference, 1.2ms postprocess per image at shape (1, 3, 1280, 1280)\n",
      "\n",
      "image 1/1 /home/zkr/experiments/yolo/test/000187.png: 224x640 12 cars, 47.9ms\n",
      "Speed: 0.4ms preprocess, 47.9ms inference, 0.9ms postprocess per image at shape (1, 3, 640, 640)\n",
      "\n"
     ]
    },
    {
     "name": "stdout",
     "output_type": "stream",
     "text": [
      "Processing ../test/000187.png: ../depth/000187/000187.jpg, ../depth/000187/000187.npy\n",
      "Detecting objects using yolov8n\n",
      "Detecting objects using yolov8x\n"
     ]
    },
    {
     "name": "stderr",
     "output_type": "stream",
     "text": [
      "image 1/1 /home/zkr/experiments/yolo/test/000187.png: 224x640 10 cars, 2 trucks, 662.1ms\n",
      "Speed: 0.4ms preprocess, 662.1ms inference, 0.9ms postprocess per image at shape (1, 3, 640, 640)\n",
      "\n"
     ]
    },
    {
     "name": "stdout",
     "output_type": "stream",
     "text": [
      "Detecting objects using yolov8x6\n"
     ]
    },
    {
     "name": "stderr",
     "output_type": "stream",
     "text": [
      "image 1/1 /home/zkr/experiments/yolo/test/000187.png: 448x1280 11 cars, 2 trucks, 2227.8ms\n",
      "Speed: 1.8ms preprocess, 2227.8ms inference, 1.2ms postprocess per image at shape (1, 3, 1280, 1280)\n",
      "\n",
      "image 1/1 /home/zkr/experiments/yolo/test/000327.png: 224x640 4 cars, 1 truck, 1 traffic light, 66.6ms\n",
      "Speed: 0.4ms preprocess, 66.6ms inference, 1.4ms postprocess per image at shape (1, 3, 640, 640)\n",
      "\n"
     ]
    },
    {
     "name": "stdout",
     "output_type": "stream",
     "text": [
      "Processing ../test/000327.png: ../depth/000327/000327.jpg, ../depth/000327/000327.npy\n",
      "Detecting objects using yolov8n\n",
      "Detecting objects using yolov8x\n"
     ]
    },
    {
     "name": "stderr",
     "output_type": "stream",
     "text": [
      "image 1/1 /home/zkr/experiments/yolo/test/000327.png: 224x640 5 cars, 1 truck, 1 traffic light, 572.9ms\n",
      "Speed: 0.6ms preprocess, 572.9ms inference, 1.2ms postprocess per image at shape (1, 3, 640, 640)\n",
      "\n"
     ]
    },
    {
     "name": "stdout",
     "output_type": "stream",
     "text": [
      "Detecting objects using yolov8x6\n"
     ]
    },
    {
     "name": "stderr",
     "output_type": "stream",
     "text": [
      "image 1/1 /home/zkr/experiments/yolo/test/000327.png: 448x1280 5 cars, 1 truck, 2251.6ms\n",
      "Speed: 1.6ms preprocess, 2251.6ms inference, 1.2ms postprocess per image at shape (1, 3, 1280, 1280)\n",
      "\n",
      "image 1/1 /home/zkr/experiments/yolo/test/000287.png: 224x640 3 cars, 2 buss, 1 truck, 53.2ms\n",
      "Speed: 0.7ms preprocess, 53.2ms inference, 1.0ms postprocess per image at shape (1, 3, 640, 640)\n",
      "\n"
     ]
    },
    {
     "name": "stdout",
     "output_type": "stream",
     "text": [
      "Processing ../test/000287.png: ../depth/000287/000287.jpg, ../depth/000287/000287.npy\n",
      "Detecting objects using yolov8n\n",
      "Detecting objects using yolov8x\n"
     ]
    },
    {
     "name": "stderr",
     "output_type": "stream",
     "text": [
      "image 1/1 /home/zkr/experiments/yolo/test/000287.png: 224x640 3 cars, 1 bus, 1 truck, 708.0ms\n",
      "Speed: 0.3ms preprocess, 708.0ms inference, 0.9ms postprocess per image at shape (1, 3, 640, 640)\n",
      "\n"
     ]
    },
    {
     "name": "stdout",
     "output_type": "stream",
     "text": [
      "Detecting objects using yolov8x6\n"
     ]
    },
    {
     "name": "stderr",
     "output_type": "stream",
     "text": [
      "image 1/1 /home/zkr/experiments/yolo/test/000287.png: 448x1280 5 cars, 1 bus, 1 truck, 2200.9ms\n",
      "Speed: 1.7ms preprocess, 2200.9ms inference, 1.6ms postprocess per image at shape (1, 3, 1280, 1280)\n",
      "\n",
      "image 1/1 /home/zkr/experiments/yolo/test/000697.png: 224x640 3 cars, 61.6ms\n",
      "Speed: 0.8ms preprocess, 61.6ms inference, 1.2ms postprocess per image at shape (1, 3, 640, 640)\n",
      "\n"
     ]
    },
    {
     "name": "stdout",
     "output_type": "stream",
     "text": [
      "Processing ../test/000697.png: ../depth/000697/000697.jpg, ../depth/000697/000697.npy\n",
      "Detecting objects using yolov8n\n",
      "Detecting objects using yolov8x\n"
     ]
    },
    {
     "name": "stderr",
     "output_type": "stream",
     "text": [
      "image 1/1 /home/zkr/experiments/yolo/test/000697.png: 224x640 5 cars, 588.3ms\n",
      "Speed: 0.3ms preprocess, 588.3ms inference, 0.9ms postprocess per image at shape (1, 3, 640, 640)\n",
      "\n"
     ]
    },
    {
     "name": "stdout",
     "output_type": "stream",
     "text": [
      "Detecting objects using yolov8x6\n"
     ]
    },
    {
     "name": "stderr",
     "output_type": "stream",
     "text": [
      "image 1/1 /home/zkr/experiments/yolo/test/000697.png: 448x1280 6 cars, 1 traffic light, 2089.9ms\n",
      "Speed: 1.5ms preprocess, 2089.9ms inference, 1.2ms postprocess per image at shape (1, 3, 1280, 1280)\n",
      "\n",
      "image 1/1 /home/zkr/experiments/yolo/test/000557.png: 224x640 8 cars, 46.3ms\n",
      "Speed: 0.3ms preprocess, 46.3ms inference, 0.8ms postprocess per image at shape (1, 3, 640, 640)\n",
      "\n"
     ]
    },
    {
     "name": "stdout",
     "output_type": "stream",
     "text": [
      "Processing ../test/000557.png: ../depth/000557/000557.jpg, ../depth/000557/000557.npy\n",
      "Detecting objects using yolov8n\n",
      "Detecting objects using yolov8x\n"
     ]
    },
    {
     "name": "stderr",
     "output_type": "stream",
     "text": [
      "image 1/1 /home/zkr/experiments/yolo/test/000557.png: 224x640 9 cars, 2 buss, 1 stop sign, 566.8ms\n",
      "Speed: 0.6ms preprocess, 566.8ms inference, 0.9ms postprocess per image at shape (1, 3, 640, 640)\n",
      "\n"
     ]
    },
    {
     "name": "stdout",
     "output_type": "stream",
     "text": [
      "Detecting objects using yolov8x6\n"
     ]
    },
    {
     "name": "stderr",
     "output_type": "stream",
     "text": [
      "image 1/1 /home/zkr/experiments/yolo/test/000557.png: 448x1280 8 cars, 3 buss, 1 truck, 2103.0ms\n",
      "Speed: 1.5ms preprocess, 2103.0ms inference, 1.2ms postprocess per image at shape (1, 3, 1280, 1280)\n",
      "\n",
      "image 1/1 /home/zkr/experiments/yolo/test/000117.png: 224x640 10 cars, 1 truck, 51.7ms\n",
      "Speed: 0.6ms preprocess, 51.7ms inference, 1.0ms postprocess per image at shape (1, 3, 640, 640)\n",
      "\n"
     ]
    },
    {
     "name": "stdout",
     "output_type": "stream",
     "text": [
      "Processing ../test/000117.png: ../depth/000117/000117.jpg, ../depth/000117/000117.npy\n",
      "Detecting objects using yolov8n\n",
      "Detecting objects using yolov8x\n"
     ]
    },
    {
     "name": "stderr",
     "output_type": "stream",
     "text": [
      "image 1/1 /home/zkr/experiments/yolo/test/000117.png: 224x640 10 cars, 1 stop sign, 563.2ms\n",
      "Speed: 0.6ms preprocess, 563.2ms inference, 0.9ms postprocess per image at shape (1, 3, 640, 640)\n",
      "\n"
     ]
    },
    {
     "name": "stdout",
     "output_type": "stream",
     "text": [
      "Detecting objects using yolov8x6\n"
     ]
    },
    {
     "name": "stderr",
     "output_type": "stream",
     "text": [
      "image 1/1 /home/zkr/experiments/yolo/test/000117.png: 448x1280 12 cars, 4 trucks, 1 stop sign, 2086.9ms\n",
      "Speed: 1.3ms preprocess, 2086.9ms inference, 1.3ms postprocess per image at shape (1, 3, 1280, 1280)\n",
      "\n",
      "image 1/1 /home/zkr/experiments/yolo/test/000617.png: 224x640 4 cars, 1 truck, 56.1ms\n",
      "Speed: 0.6ms preprocess, 56.1ms inference, 1.4ms postprocess per image at shape (1, 3, 640, 640)\n",
      "\n"
     ]
    },
    {
     "name": "stdout",
     "output_type": "stream",
     "text": [
      "Processing ../test/000617.png: ../depth/000617/000617.jpg, ../depth/000617/000617.npy\n",
      "Detecting objects using yolov8n\n",
      "Detecting objects using yolov8x\n"
     ]
    },
    {
     "name": "stderr",
     "output_type": "stream",
     "text": [
      "image 1/1 /home/zkr/experiments/yolo/test/000617.png: 224x640 1 person, 8 cars, 1 bus, 687.9ms\n",
      "Speed: 0.3ms preprocess, 687.9ms inference, 0.9ms postprocess per image at shape (1, 3, 640, 640)\n",
      "\n"
     ]
    },
    {
     "name": "stdout",
     "output_type": "stream",
     "text": [
      "Detecting objects using yolov8x6\n"
     ]
    },
    {
     "name": "stderr",
     "output_type": "stream",
     "text": [
      "image 1/1 /home/zkr/experiments/yolo/test/000617.png: 448x1280 1 person, 10 cars, 1 bus, 2097.6ms\n",
      "Speed: 1.4ms preprocess, 2097.6ms inference, 1.2ms postprocess per image at shape (1, 3, 1280, 1280)\n",
      "\n",
      "image 1/1 /home/zkr/experiments/yolo/test/000387.png: 224x640 9 cars, 55.1ms\n",
      "Speed: 0.5ms preprocess, 55.1ms inference, 1.0ms postprocess per image at shape (1, 3, 640, 640)\n",
      "\n"
     ]
    },
    {
     "name": "stdout",
     "output_type": "stream",
     "text": [
      "Processing ../test/000387.png: ../depth/000387/000387.jpg, ../depth/000387/000387.npy\n",
      "Detecting objects using yolov8n\n",
      "Detecting objects using yolov8x\n"
     ]
    },
    {
     "name": "stderr",
     "output_type": "stream",
     "text": [
      "image 1/1 /home/zkr/experiments/yolo/test/000387.png: 224x640 8 cars, 601.9ms\n",
      "Speed: 0.4ms preprocess, 601.9ms inference, 0.9ms postprocess per image at shape (1, 3, 640, 640)\n",
      "\n"
     ]
    },
    {
     "name": "stdout",
     "output_type": "stream",
     "text": [
      "Detecting objects using yolov8x6\n"
     ]
    },
    {
     "name": "stderr",
     "output_type": "stream",
     "text": [
      "image 1/1 /home/zkr/experiments/yolo/test/000387.png: 448x1280 8 cars, 1 truck, 2110.5ms\n",
      "Speed: 1.5ms preprocess, 2110.5ms inference, 1.6ms postprocess per image at shape (1, 3, 1280, 1280)\n",
      "\n",
      "image 1/1 /home/zkr/experiments/yolo/test/000137.png: 224x640 11 cars, 1 truck, 54.7ms\n",
      "Speed: 0.6ms preprocess, 54.7ms inference, 1.5ms postprocess per image at shape (1, 3, 640, 640)\n",
      "\n"
     ]
    },
    {
     "name": "stdout",
     "output_type": "stream",
     "text": [
      "Processing ../test/000137.png: ../depth/000137/000137.jpg, ../depth/000137/000137.npy\n",
      "Detecting objects using yolov8n\n",
      "Detecting objects using yolov8x\n"
     ]
    },
    {
     "name": "stderr",
     "output_type": "stream",
     "text": [
      "image 1/1 /home/zkr/experiments/yolo/test/000137.png: 224x640 11 cars, 1 bus, 1 truck, 536.9ms\n",
      "Speed: 0.3ms preprocess, 536.9ms inference, 1.0ms postprocess per image at shape (1, 3, 640, 640)\n",
      "\n"
     ]
    },
    {
     "name": "stdout",
     "output_type": "stream",
     "text": [
      "Detecting objects using yolov8x6\n"
     ]
    },
    {
     "name": "stderr",
     "output_type": "stream",
     "text": [
      "image 1/1 /home/zkr/experiments/yolo/test/000137.png: 448x1280 10 cars, 4 trucks, 2097.9ms\n",
      "Speed: 1.5ms preprocess, 2097.9ms inference, 1.2ms postprocess per image at shape (1, 3, 1280, 1280)\n",
      "\n",
      "image 1/1 /home/zkr/experiments/yolo/test/000457.png: 224x640 3 cars, 3 trucks, 45.9ms\n",
      "Speed: 0.4ms preprocess, 45.9ms inference, 0.9ms postprocess per image at shape (1, 3, 640, 640)\n",
      "\n"
     ]
    },
    {
     "name": "stdout",
     "output_type": "stream",
     "text": [
      "Processing ../test/000457.png: ../depth/000457/000457.jpg, ../depth/000457/000457.npy\n",
      "Detecting objects using yolov8n\n",
      "Detecting objects using yolov8x\n"
     ]
    },
    {
     "name": "stderr",
     "output_type": "stream",
     "text": [
      "image 1/1 /home/zkr/experiments/yolo/test/000457.png: 224x640 8 cars, 3 trucks, 567.3ms\n",
      "Speed: 0.3ms preprocess, 567.3ms inference, 0.9ms postprocess per image at shape (1, 3, 640, 640)\n",
      "\n"
     ]
    },
    {
     "name": "stdout",
     "output_type": "stream",
     "text": [
      "Detecting objects using yolov8x6\n"
     ]
    },
    {
     "name": "stderr",
     "output_type": "stream",
     "text": [
      "image 1/1 /home/zkr/experiments/yolo/test/000457.png: 448x1280 6 cars, 5 trucks, 2094.0ms\n",
      "Speed: 1.8ms preprocess, 2094.0ms inference, 1.2ms postprocess per image at shape (1, 3, 1280, 1280)\n",
      "\n",
      "image 1/1 /home/zkr/experiments/yolo/test/0000000002.png: 192x640 (no detections), 37.9ms\n",
      "Speed: 0.4ms preprocess, 37.9ms inference, 0.4ms postprocess per image at shape (1, 3, 640, 640)\n",
      "\n"
     ]
    },
    {
     "name": "stdout",
     "output_type": "stream",
     "text": [
      "Processing ../test/0000000002.png: ../depth/0000000002/0000000002.jpg, ../depth/0000000002/0000000002.npy\n",
      "Detecting objects using yolov8n\n",
      "Detecting objects using yolov8x\n"
     ]
    },
    {
     "name": "stderr",
     "output_type": "stream",
     "text": [
      "image 1/1 /home/zkr/experiments/yolo/test/0000000002.png: 192x640 (no detections), 498.1ms\n",
      "Speed: 0.5ms preprocess, 498.1ms inference, 0.4ms postprocess per image at shape (1, 3, 640, 640)\n",
      "\n"
     ]
    },
    {
     "name": "stdout",
     "output_type": "stream",
     "text": [
      "Detecting objects using yolov8x6\n"
     ]
    },
    {
     "name": "stderr",
     "output_type": "stream",
     "text": [
      "image 1/1 /home/zkr/experiments/yolo/test/0000000002.png: 384x1280 (no detections), 1763.7ms\n",
      "Speed: 2.1ms preprocess, 1763.7ms inference, 0.6ms postprocess per image at shape (1, 3, 1280, 1280)\n",
      "\n",
      "image 1/1 /home/zkr/experiments/yolo/test/000377.png: 224x640 11 cars, 46.3ms\n",
      "Speed: 0.6ms preprocess, 46.3ms inference, 0.9ms postprocess per image at shape (1, 3, 640, 640)\n",
      "\n"
     ]
    },
    {
     "name": "stdout",
     "output_type": "stream",
     "text": [
      "Processing ../test/000377.png: ../depth/000377/000377.jpg, ../depth/000377/000377.npy\n",
      "Detecting objects using yolov8n\n",
      "Detecting objects using yolov8x\n"
     ]
    },
    {
     "name": "stderr",
     "output_type": "stream",
     "text": [
      "image 1/1 /home/zkr/experiments/yolo/test/000377.png: 224x640 9 cars, 1 traffic light, 538.7ms\n",
      "Speed: 0.4ms preprocess, 538.7ms inference, 1.0ms postprocess per image at shape (1, 3, 640, 640)\n",
      "\n"
     ]
    },
    {
     "name": "stdout",
     "output_type": "stream",
     "text": [
      "Detecting objects using yolov8x6\n"
     ]
    },
    {
     "name": "stderr",
     "output_type": "stream",
     "text": [
      "image 1/1 /home/zkr/experiments/yolo/test/000377.png: 448x1280 9 cars, 1 truck, 2530.0ms\n",
      "Speed: 1.9ms preprocess, 2530.0ms inference, 1.2ms postprocess per image at shape (1, 3, 1280, 1280)\n",
      "\n",
      "image 1/1 /home/zkr/experiments/yolo/test/000637.png: 224x640 2 cars, 67.1ms\n",
      "Speed: 0.8ms preprocess, 67.1ms inference, 1.4ms postprocess per image at shape (1, 3, 640, 640)\n",
      "\n"
     ]
    },
    {
     "name": "stdout",
     "output_type": "stream",
     "text": [
      "Processing ../test/000637.png: ../depth/000637/000637.jpg, ../depth/000637/000637.npy\n",
      "Detecting objects using yolov8n\n",
      "Detecting objects using yolov8x\n"
     ]
    },
    {
     "name": "stderr",
     "output_type": "stream",
     "text": [
      "image 1/1 /home/zkr/experiments/yolo/test/000637.png: 224x640 1 person, 4 cars, 1 fire hydrant, 677.5ms\n",
      "Speed: 0.7ms preprocess, 677.5ms inference, 1.3ms postprocess per image at shape (1, 3, 640, 640)\n",
      "\n"
     ]
    },
    {
     "name": "stdout",
     "output_type": "stream",
     "text": [
      "Detecting objects using yolov8x6\n"
     ]
    },
    {
     "name": "stderr",
     "output_type": "stream",
     "text": [
      "image 1/1 /home/zkr/experiments/yolo/test/000637.png: 448x1280 4 cars, 2611.4ms\n",
      "Speed: 1.9ms preprocess, 2611.4ms inference, 1.6ms postprocess per image at shape (1, 3, 1280, 1280)\n",
      "\n",
      "image 1/1 /home/zkr/experiments/yolo/test/000357.png: 224x640 7 cars, 66.7ms\n",
      "Speed: 0.8ms preprocess, 66.7ms inference, 0.9ms postprocess per image at shape (1, 3, 640, 640)\n",
      "\n"
     ]
    },
    {
     "name": "stdout",
     "output_type": "stream",
     "text": [
      "Processing ../test/000357.png: ../depth/000357/000357.jpg, ../depth/000357/000357.npy\n",
      "Detecting objects using yolov8n\n",
      "Detecting objects using yolov8x\n"
     ]
    },
    {
     "name": "stderr",
     "output_type": "stream",
     "text": [
      "image 1/1 /home/zkr/experiments/yolo/test/000357.png: 224x640 9 cars, 607.8ms\n",
      "Speed: 1.4ms preprocess, 607.8ms inference, 0.9ms postprocess per image at shape (1, 3, 640, 640)\n",
      "\n"
     ]
    },
    {
     "name": "stdout",
     "output_type": "stream",
     "text": [
      "Detecting objects using yolov8x6\n"
     ]
    },
    {
     "name": "stderr",
     "output_type": "stream",
     "text": [
      "image 1/1 /home/zkr/experiments/yolo/test/000357.png: 448x1280 10 cars, 2744.4ms\n",
      "Speed: 2.5ms preprocess, 2744.4ms inference, 2.2ms postprocess per image at shape (1, 3, 1280, 1280)\n",
      "\n",
      "image 1/1 /home/zkr/experiments/yolo/test/000677.png: 224x640 2 cars, 57.5ms\n",
      "Speed: 0.4ms preprocess, 57.5ms inference, 1.0ms postprocess per image at shape (1, 3, 640, 640)\n",
      "\n"
     ]
    },
    {
     "name": "stdout",
     "output_type": "stream",
     "text": [
      "Processing ../test/000677.png: ../depth/000677/000677.jpg, ../depth/000677/000677.npy\n",
      "Detecting objects using yolov8n\n",
      "Detecting objects using yolov8x\n"
     ]
    },
    {
     "name": "stderr",
     "output_type": "stream",
     "text": [
      "image 1/1 /home/zkr/experiments/yolo/test/000677.png: 224x640 3 cars, 666.3ms\n",
      "Speed: 0.7ms preprocess, 666.3ms inference, 1.3ms postprocess per image at shape (1, 3, 640, 640)\n",
      "\n"
     ]
    },
    {
     "name": "stdout",
     "output_type": "stream",
     "text": [
      "Detecting objects using yolov8x6\n"
     ]
    },
    {
     "name": "stderr",
     "output_type": "stream",
     "text": [
      "image 1/1 /home/zkr/experiments/yolo/test/000677.png: 448x1280 3 cars, 2087.0ms\n",
      "Speed: 2.4ms preprocess, 2087.0ms inference, 1.1ms postprocess per image at shape (1, 3, 1280, 1280)\n",
      "\n",
      "image 1/1 /home/zkr/experiments/yolo/test/000067.png: 224x640 11 cars, 47.9ms\n",
      "Speed: 0.3ms preprocess, 47.9ms inference, 1.0ms postprocess per image at shape (1, 3, 640, 640)\n",
      "\n"
     ]
    },
    {
     "name": "stdout",
     "output_type": "stream",
     "text": [
      "Processing ../test/000067.png: ../depth/000067/000067.jpg, ../depth/000067/000067.npy\n",
      "Detecting objects using yolov8n\n",
      "Detecting objects using yolov8x\n"
     ]
    },
    {
     "name": "stderr",
     "output_type": "stream",
     "text": [
      "image 1/1 /home/zkr/experiments/yolo/test/000067.png: 224x640 12 cars, 1 bus, 515.5ms\n",
      "Speed: 0.4ms preprocess, 515.5ms inference, 1.4ms postprocess per image at shape (1, 3, 640, 640)\n",
      "\n"
     ]
    },
    {
     "name": "stdout",
     "output_type": "stream",
     "text": [
      "Detecting objects using yolov8x6\n"
     ]
    },
    {
     "name": "stderr",
     "output_type": "stream",
     "text": [
      "image 1/1 /home/zkr/experiments/yolo/test/000067.png: 448x1280 13 cars, 1 truck, 2076.3ms\n",
      "Speed: 1.5ms preprocess, 2076.3ms inference, 1.2ms postprocess per image at shape (1, 3, 1280, 1280)\n",
      "\n",
      "image 1/1 /home/zkr/experiments/yolo/test/000517.png: 224x640 5 cars, 1 bus, 1 truck, 55.6ms\n",
      "Speed: 0.5ms preprocess, 55.6ms inference, 1.0ms postprocess per image at shape (1, 3, 640, 640)\n",
      "\n"
     ]
    },
    {
     "name": "stdout",
     "output_type": "stream",
     "text": [
      "Processing ../test/000517.png: ../depth/000517/000517.jpg, ../depth/000517/000517.npy\n",
      "Detecting objects using yolov8n\n",
      "Detecting objects using yolov8x\n"
     ]
    },
    {
     "name": "stderr",
     "output_type": "stream",
     "text": [
      "image 1/1 /home/zkr/experiments/yolo/test/000517.png: 224x640 8 cars, 3 trucks, 570.1ms\n",
      "Speed: 0.4ms preprocess, 570.1ms inference, 1.0ms postprocess per image at shape (1, 3, 640, 640)\n",
      "\n"
     ]
    },
    {
     "name": "stdout",
     "output_type": "stream",
     "text": [
      "Detecting objects using yolov8x6\n"
     ]
    },
    {
     "name": "stderr",
     "output_type": "stream",
     "text": [
      "image 1/1 /home/zkr/experiments/yolo/test/000517.png: 448x1280 7 cars, 3 trucks, 2080.1ms\n",
      "Speed: 2.7ms preprocess, 2080.1ms inference, 1.2ms postprocess per image at shape (1, 3, 1280, 1280)\n",
      "\n",
      "image 1/1 /home/zkr/experiments/yolo/test/000497.png: 224x640 7 cars, 4 trucks, 54.1ms\n",
      "Speed: 0.3ms preprocess, 54.1ms inference, 1.3ms postprocess per image at shape (1, 3, 640, 640)\n",
      "\n"
     ]
    },
    {
     "name": "stdout",
     "output_type": "stream",
     "text": [
      "Processing ../test/000497.png: ../depth/000497/000497.jpg, ../depth/000497/000497.npy\n",
      "Detecting objects using yolov8n\n",
      "Detecting objects using yolov8x\n"
     ]
    },
    {
     "name": "stderr",
     "output_type": "stream",
     "text": [
      "image 1/1 /home/zkr/experiments/yolo/test/000497.png: 224x640 3 cars, 4 trucks, 507.9ms\n",
      "Speed: 0.3ms preprocess, 507.9ms inference, 1.1ms postprocess per image at shape (1, 3, 640, 640)\n",
      "\n"
     ]
    },
    {
     "name": "stdout",
     "output_type": "stream",
     "text": [
      "Detecting objects using yolov8x6\n"
     ]
    },
    {
     "name": "stderr",
     "output_type": "stream",
     "text": [
      "image 1/1 /home/zkr/experiments/yolo/test/000497.png: 448x1280 3 cars, 4 trucks, 2286.5ms\n",
      "Speed: 1.6ms preprocess, 2286.5ms inference, 1.5ms postprocess per image at shape (1, 3, 1280, 1280)\n",
      "\n",
      "image 1/1 /home/zkr/experiments/yolo/test/000737.png: 224x640 2 cars, 53.5ms\n",
      "Speed: 0.4ms preprocess, 53.5ms inference, 1.1ms postprocess per image at shape (1, 3, 640, 640)\n",
      "\n"
     ]
    },
    {
     "name": "stdout",
     "output_type": "stream",
     "text": [
      "Processing ../test/000737.png: ../depth/000737/000737.jpg, ../depth/000737/000737.npy\n",
      "Detecting objects using yolov8n\n",
      "Detecting objects using yolov8x\n"
     ]
    },
    {
     "name": "stderr",
     "output_type": "stream",
     "text": [
      "image 1/1 /home/zkr/experiments/yolo/test/000737.png: 224x640 4 cars, 559.9ms\n",
      "Speed: 0.4ms preprocess, 559.9ms inference, 1.0ms postprocess per image at shape (1, 3, 640, 640)\n",
      "\n"
     ]
    },
    {
     "name": "stdout",
     "output_type": "stream",
     "text": [
      "Detecting objects using yolov8x6\n"
     ]
    },
    {
     "name": "stderr",
     "output_type": "stream",
     "text": [
      "image 1/1 /home/zkr/experiments/yolo/test/000737.png: 448x1280 5 cars, 2 traffic lights, 2333.0ms\n",
      "Speed: 1.7ms preprocess, 2333.0ms inference, 1.2ms postprocess per image at shape (1, 3, 1280, 1280)\n",
      "\n",
      "image 1/1 /home/zkr/experiments/yolo/test/000807.png: 224x640 2 cars, 49.0ms\n",
      "Speed: 0.4ms preprocess, 49.0ms inference, 0.9ms postprocess per image at shape (1, 3, 640, 640)\n",
      "\n"
     ]
    },
    {
     "name": "stdout",
     "output_type": "stream",
     "text": [
      "Processing ../test/000807.png: ../depth/000807/000807.jpg, ../depth/000807/000807.npy\n",
      "Detecting objects using yolov8n\n",
      "Detecting objects using yolov8x\n"
     ]
    },
    {
     "name": "stderr",
     "output_type": "stream",
     "text": [
      "image 1/1 /home/zkr/experiments/yolo/test/000807.png: 224x640 5 cars, 3 traffic lights, 588.2ms\n",
      "Speed: 0.3ms preprocess, 588.2ms inference, 0.9ms postprocess per image at shape (1, 3, 640, 640)\n",
      "\n"
     ]
    },
    {
     "name": "stdout",
     "output_type": "stream",
     "text": [
      "Detecting objects using yolov8x6\n"
     ]
    },
    {
     "name": "stderr",
     "output_type": "stream",
     "text": [
      "image 1/1 /home/zkr/experiments/yolo/test/000807.png: 448x1280 9 cars, 4 traffic lights, 3286.9ms\n",
      "Speed: 1.7ms preprocess, 3286.9ms inference, 1.3ms postprocess per image at shape (1, 3, 1280, 1280)\n",
      "\n",
      "image 1/1 /home/zkr/experiments/yolo/test/000087.png: 224x640 8 cars, 48.5ms\n",
      "Speed: 0.4ms preprocess, 48.5ms inference, 0.9ms postprocess per image at shape (1, 3, 640, 640)\n",
      "\n"
     ]
    },
    {
     "name": "stdout",
     "output_type": "stream",
     "text": [
      "Processing ../test/000087.png: ../depth/000087/000087.jpg, ../depth/000087/000087.npy\n",
      "Detecting objects using yolov8n\n",
      "Detecting objects using yolov8x\n"
     ]
    },
    {
     "name": "stderr",
     "output_type": "stream",
     "text": [
      "image 1/1 /home/zkr/experiments/yolo/test/000087.png: 224x640 9 cars, 580.5ms\n",
      "Speed: 0.4ms preprocess, 580.5ms inference, 0.9ms postprocess per image at shape (1, 3, 640, 640)\n",
      "\n"
     ]
    },
    {
     "name": "stdout",
     "output_type": "stream",
     "text": [
      "Detecting objects using yolov8x6\n"
     ]
    },
    {
     "name": "stderr",
     "output_type": "stream",
     "text": [
      "image 1/1 /home/zkr/experiments/yolo/test/000087.png: 448x1280 12 cars, 1 truck, 2341.8ms\n",
      "Speed: 1.6ms preprocess, 2341.8ms inference, 2.2ms postprocess per image at shape (1, 3, 1280, 1280)\n",
      "\n",
      "image 1/1 /home/zkr/experiments/yolo/test/000267.png: 224x640 2 cars, 3 buss, 3 trucks, 56.5ms\n",
      "Speed: 0.4ms preprocess, 56.5ms inference, 1.3ms postprocess per image at shape (1, 3, 640, 640)\n",
      "\n"
     ]
    },
    {
     "name": "stdout",
     "output_type": "stream",
     "text": [
      "Processing ../test/000267.png: ../depth/000267/000267.jpg, ../depth/000267/000267.npy\n",
      "Detecting objects using yolov8n\n",
      "Detecting objects using yolov8x\n"
     ]
    },
    {
     "name": "stderr",
     "output_type": "stream",
     "text": [
      "image 1/1 /home/zkr/experiments/yolo/test/000267.png: 224x640 2 cars, 3 buss, 1 truck, 587.4ms\n",
      "Speed: 0.6ms preprocess, 587.4ms inference, 1.3ms postprocess per image at shape (1, 3, 640, 640)\n",
      "\n"
     ]
    },
    {
     "name": "stdout",
     "output_type": "stream",
     "text": [
      "Detecting objects using yolov8x6\n"
     ]
    },
    {
     "name": "stderr",
     "output_type": "stream",
     "text": [
      "image 1/1 /home/zkr/experiments/yolo/test/000267.png: 448x1280 3 cars, 6 trucks, 2288.6ms\n",
      "Speed: 2.2ms preprocess, 2288.6ms inference, 1.4ms postprocess per image at shape (1, 3, 1280, 1280)\n",
      "\n",
      "image 1/1 /home/zkr/experiments/yolo/test/000757.png: 224x640 3 cars, 63.6ms\n",
      "Speed: 0.4ms preprocess, 63.6ms inference, 1.8ms postprocess per image at shape (1, 3, 640, 640)\n",
      "\n"
     ]
    },
    {
     "name": "stdout",
     "output_type": "stream",
     "text": [
      "Processing ../test/000757.png: ../depth/000757/000757.jpg, ../depth/000757/000757.npy\n",
      "Detecting objects using yolov8n\n",
      "Detecting objects using yolov8x\n"
     ]
    },
    {
     "name": "stderr",
     "output_type": "stream",
     "text": [
      "image 1/1 /home/zkr/experiments/yolo/test/000757.png: 224x640 5 cars, 714.5ms\n",
      "Speed: 0.4ms preprocess, 714.5ms inference, 0.9ms postprocess per image at shape (1, 3, 640, 640)\n",
      "\n"
     ]
    },
    {
     "name": "stdout",
     "output_type": "stream",
     "text": [
      "Detecting objects using yolov8x6\n"
     ]
    },
    {
     "name": "stderr",
     "output_type": "stream",
     "text": [
      "image 1/1 /home/zkr/experiments/yolo/test/000757.png: 448x1280 6 cars, 1 traffic light, 2637.0ms\n",
      "Speed: 1.6ms preprocess, 2637.0ms inference, 1.1ms postprocess per image at shape (1, 3, 1280, 1280)\n",
      "\n",
      "image 1/1 /home/zkr/experiments/yolo/test/000487.png: 224x640 6 cars, 1 truck, 60.0ms\n",
      "Speed: 0.6ms preprocess, 60.0ms inference, 1.1ms postprocess per image at shape (1, 3, 640, 640)\n",
      "\n"
     ]
    },
    {
     "name": "stdout",
     "output_type": "stream",
     "text": [
      "Processing ../test/000487.png: ../depth/000487/000487.jpg, ../depth/000487/000487.npy\n",
      "Detecting objects using yolov8n\n",
      "Detecting objects using yolov8x\n"
     ]
    },
    {
     "name": "stderr",
     "output_type": "stream",
     "text": [
      "image 1/1 /home/zkr/experiments/yolo/test/000487.png: 224x640 8 cars, 2 trucks, 547.6ms\n",
      "Speed: 0.7ms preprocess, 547.6ms inference, 1.0ms postprocess per image at shape (1, 3, 640, 640)\n",
      "\n"
     ]
    },
    {
     "name": "stdout",
     "output_type": "stream",
     "text": [
      "Detecting objects using yolov8x6\n"
     ]
    },
    {
     "name": "stderr",
     "output_type": "stream",
     "text": [
      "image 1/1 /home/zkr/experiments/yolo/test/000487.png: 448x1280 9 cars, 3 trucks, 2282.8ms\n",
      "Speed: 1.7ms preprocess, 2282.8ms inference, 1.5ms postprocess per image at shape (1, 3, 1280, 1280)\n",
      "\n",
      "image 1/1 /home/zkr/experiments/yolo/test/000747.png: 224x640 3 cars, 55.3ms\n",
      "Speed: 0.4ms preprocess, 55.3ms inference, 0.8ms postprocess per image at shape (1, 3, 640, 640)\n",
      "\n"
     ]
    },
    {
     "name": "stdout",
     "output_type": "stream",
     "text": [
      "Processing ../test/000747.png: ../depth/000747/000747.jpg, ../depth/000747/000747.npy\n",
      "Detecting objects using yolov8n\n",
      "Detecting objects using yolov8x\n"
     ]
    },
    {
     "name": "stderr",
     "output_type": "stream",
     "text": [
      "image 1/1 /home/zkr/experiments/yolo/test/000747.png: 224x640 3 cars, 538.0ms\n",
      "Speed: 0.3ms preprocess, 538.0ms inference, 0.9ms postprocess per image at shape (1, 3, 640, 640)\n",
      "\n"
     ]
    },
    {
     "name": "stdout",
     "output_type": "stream",
     "text": [
      "Detecting objects using yolov8x6\n"
     ]
    },
    {
     "name": "stderr",
     "output_type": "stream",
     "text": [
      "image 1/1 /home/zkr/experiments/yolo/test/000747.png: 448x1280 6 cars, 2 traffic lights, 2202.0ms\n",
      "Speed: 1.4ms preprocess, 2202.0ms inference, 1.3ms postprocess per image at shape (1, 3, 1280, 1280)\n",
      "\n",
      "image 1/1 /home/zkr/experiments/yolo/test/000687.png: 224x640 3 cars, 52.6ms\n",
      "Speed: 0.4ms preprocess, 52.6ms inference, 1.3ms postprocess per image at shape (1, 3, 640, 640)\n",
      "\n"
     ]
    },
    {
     "name": "stdout",
     "output_type": "stream",
     "text": [
      "Processing ../test/000687.png: ../depth/000687/000687.jpg, ../depth/000687/000687.npy\n",
      "Detecting objects using yolov8n\n",
      "Detecting objects using yolov8x\n"
     ]
    },
    {
     "name": "stderr",
     "output_type": "stream",
     "text": [
      "image 1/1 /home/zkr/experiments/yolo/test/000687.png: 224x640 3 cars, 560.8ms\n",
      "Speed: 0.3ms preprocess, 560.8ms inference, 0.9ms postprocess per image at shape (1, 3, 640, 640)\n",
      "\n"
     ]
    },
    {
     "name": "stdout",
     "output_type": "stream",
     "text": [
      "Detecting objects using yolov8x6\n"
     ]
    },
    {
     "name": "stderr",
     "output_type": "stream",
     "text": [
      "image 1/1 /home/zkr/experiments/yolo/test/000687.png: 448x1280 3 cars, 2242.9ms\n",
      "Speed: 1.5ms preprocess, 2242.9ms inference, 1.2ms postprocess per image at shape (1, 3, 1280, 1280)\n",
      "\n",
      "image 1/1 /home/zkr/experiments/yolo/test/000177.png: 224x640 11 cars, 1 truck, 55.0ms\n",
      "Speed: 0.4ms preprocess, 55.0ms inference, 1.1ms postprocess per image at shape (1, 3, 640, 640)\n",
      "\n"
     ]
    },
    {
     "name": "stdout",
     "output_type": "stream",
     "text": [
      "Processing ../test/000177.png: ../depth/000177/000177.jpg, ../depth/000177/000177.npy\n",
      "Detecting objects using yolov8n\n",
      "Detecting objects using yolov8x\n"
     ]
    },
    {
     "name": "stderr",
     "output_type": "stream",
     "text": [
      "image 1/1 /home/zkr/experiments/yolo/test/000177.png: 224x640 11 cars, 545.3ms\n",
      "Speed: 0.6ms preprocess, 545.3ms inference, 1.0ms postprocess per image at shape (1, 3, 640, 640)\n",
      "\n"
     ]
    },
    {
     "name": "stdout",
     "output_type": "stream",
     "text": [
      "Detecting objects using yolov8x6\n"
     ]
    },
    {
     "name": "stderr",
     "output_type": "stream",
     "text": [
      "image 1/1 /home/zkr/experiments/yolo/test/000177.png: 448x1280 12 cars, 4 trucks, 2070.0ms\n",
      "Speed: 1.5ms preprocess, 2070.0ms inference, 1.3ms postprocess per image at shape (1, 3, 1280, 1280)\n",
      "\n",
      "image 1/1 /home/zkr/experiments/yolo/test/000237.png: 224x640 6 cars, 2 trucks, 54.9ms\n",
      "Speed: 0.4ms preprocess, 54.9ms inference, 0.9ms postprocess per image at shape (1, 3, 640, 640)\n",
      "\n"
     ]
    },
    {
     "name": "stdout",
     "output_type": "stream",
     "text": [
      "Processing ../test/000237.png: ../depth/000237/000237.jpg, ../depth/000237/000237.npy\n",
      "Detecting objects using yolov8n\n",
      "Detecting objects using yolov8x\n"
     ]
    },
    {
     "name": "stderr",
     "output_type": "stream",
     "text": [
      "image 1/1 /home/zkr/experiments/yolo/test/000237.png: 224x640 6 cars, 4 trucks, 652.2ms\n",
      "Speed: 0.3ms preprocess, 652.2ms inference, 0.9ms postprocess per image at shape (1, 3, 640, 640)\n",
      "\n"
     ]
    },
    {
     "name": "stdout",
     "output_type": "stream",
     "text": [
      "Detecting objects using yolov8x6\n"
     ]
    },
    {
     "name": "stderr",
     "output_type": "stream",
     "text": [
      "image 1/1 /home/zkr/experiments/yolo/test/000237.png: 448x1280 1 bicycle, 7 cars, 5 trucks, 2116.8ms\n",
      "Speed: 1.5ms preprocess, 2116.8ms inference, 1.3ms postprocess per image at shape (1, 3, 1280, 1280)\n",
      "\n",
      "image 1/1 /home/zkr/experiments/yolo/test/000407.png: 224x640 12 cars, 52.8ms\n",
      "Speed: 0.3ms preprocess, 52.8ms inference, 1.5ms postprocess per image at shape (1, 3, 640, 640)\n",
      "\n"
     ]
    },
    {
     "name": "stdout",
     "output_type": "stream",
     "text": [
      "Processing ../test/000407.png: ../depth/000407/000407.jpg, ../depth/000407/000407.npy\n",
      "Detecting objects using yolov8n\n",
      "Detecting objects using yolov8x\n"
     ]
    },
    {
     "name": "stderr",
     "output_type": "stream",
     "text": [
      "image 1/1 /home/zkr/experiments/yolo/test/000407.png: 224x640 9 cars, 1 truck, 740.0ms\n",
      "Speed: 0.3ms preprocess, 740.0ms inference, 1.1ms postprocess per image at shape (1, 3, 640, 640)\n",
      "\n"
     ]
    },
    {
     "name": "stdout",
     "output_type": "stream",
     "text": [
      "Detecting objects using yolov8x6\n"
     ]
    },
    {
     "name": "stderr",
     "output_type": "stream",
     "text": [
      "image 1/1 /home/zkr/experiments/yolo/test/000407.png: 448x1280 9 cars, 1 bus, 2271.7ms\n",
      "Speed: 2.0ms preprocess, 2271.7ms inference, 2.1ms postprocess per image at shape (1, 3, 1280, 1280)\n",
      "\n",
      "image 1/1 /home/zkr/experiments/yolo/test/000817.png: 224x640 2 cars, 61.1ms\n",
      "Speed: 0.9ms preprocess, 61.1ms inference, 1.6ms postprocess per image at shape (1, 3, 640, 640)\n",
      "\n"
     ]
    },
    {
     "name": "stdout",
     "output_type": "stream",
     "text": [
      "Processing ../test/000817.png: ../depth/000817/000817.jpg, ../depth/000817/000817.npy\n",
      "Detecting objects using yolov8n\n",
      "Detecting objects using yolov8x\n"
     ]
    },
    {
     "name": "stderr",
     "output_type": "stream",
     "text": [
      "image 1/1 /home/zkr/experiments/yolo/test/000817.png: 224x640 4 cars, 2 traffic lights, 649.0ms\n",
      "Speed: 0.6ms preprocess, 649.0ms inference, 0.9ms postprocess per image at shape (1, 3, 640, 640)\n",
      "\n"
     ]
    },
    {
     "name": "stdout",
     "output_type": "stream",
     "text": [
      "Detecting objects using yolov8x6\n"
     ]
    },
    {
     "name": "stderr",
     "output_type": "stream",
     "text": [
      "image 1/1 /home/zkr/experiments/yolo/test/000817.png: 448x1280 10 cars, 4 traffic lights, 2187.0ms\n",
      "Speed: 2.0ms preprocess, 2187.0ms inference, 1.2ms postprocess per image at shape (1, 3, 1280, 1280)\n",
      "\n",
      "image 1/1 /home/zkr/experiments/yolo/test/000197.png: 224x640 9 cars, 56.1ms\n",
      "Speed: 0.6ms preprocess, 56.1ms inference, 1.0ms postprocess per image at shape (1, 3, 640, 640)\n",
      "\n"
     ]
    },
    {
     "name": "stdout",
     "output_type": "stream",
     "text": [
      "Processing ../test/000197.png: ../depth/000197/000197.jpg, ../depth/000197/000197.npy\n",
      "Detecting objects using yolov8n\n",
      "Detecting objects using yolov8x\n"
     ]
    },
    {
     "name": "stderr",
     "output_type": "stream",
     "text": [
      "image 1/1 /home/zkr/experiments/yolo/test/000197.png: 224x640 10 cars, 2 trucks, 598.7ms\n",
      "Speed: 0.6ms preprocess, 598.7ms inference, 1.0ms postprocess per image at shape (1, 3, 640, 640)\n",
      "\n"
     ]
    },
    {
     "name": "stdout",
     "output_type": "stream",
     "text": [
      "Detecting objects using yolov8x6\n"
     ]
    },
    {
     "name": "stderr",
     "output_type": "stream",
     "text": [
      "image 1/1 /home/zkr/experiments/yolo/test/000197.png: 448x1280 10 cars, 3 trucks, 2085.4ms\n",
      "Speed: 1.4ms preprocess, 2085.4ms inference, 1.3ms postprocess per image at shape (1, 3, 1280, 1280)\n",
      "\n",
      "image 1/1 /home/zkr/experiments/yolo/test/000827.png: 224x640 3 cars, 44.4ms\n",
      "Speed: 0.4ms preprocess, 44.4ms inference, 0.9ms postprocess per image at shape (1, 3, 640, 640)\n",
      "\n"
     ]
    },
    {
     "name": "stdout",
     "output_type": "stream",
     "text": [
      "Processing ../test/000827.png: ../depth/000827/000827.jpg, ../depth/000827/000827.npy\n",
      "Detecting objects using yolov8n\n",
      "Detecting objects using yolov8x\n"
     ]
    },
    {
     "name": "stderr",
     "output_type": "stream",
     "text": [
      "image 1/1 /home/zkr/experiments/yolo/test/000827.png: 224x640 4 cars, 2 traffic lights, 690.2ms\n",
      "Speed: 0.3ms preprocess, 690.2ms inference, 1.1ms postprocess per image at shape (1, 3, 640, 640)\n",
      "\n"
     ]
    },
    {
     "name": "stdout",
     "output_type": "stream",
     "text": [
      "Detecting objects using yolov8x6\n"
     ]
    },
    {
     "name": "stderr",
     "output_type": "stream",
     "text": [
      "image 1/1 /home/zkr/experiments/yolo/test/000827.png: 448x1280 9 cars, 4 traffic lights, 2187.9ms\n",
      "Speed: 1.6ms preprocess, 2187.9ms inference, 1.3ms postprocess per image at shape (1, 3, 1280, 1280)\n",
      "\n",
      "image 1/1 /home/zkr/experiments/yolo/test/000667.png: 224x640 2 cars, 65.0ms\n",
      "Speed: 0.5ms preprocess, 65.0ms inference, 1.5ms postprocess per image at shape (1, 3, 640, 640)\n",
      "\n"
     ]
    },
    {
     "name": "stdout",
     "output_type": "stream",
     "text": [
      "Processing ../test/000667.png: ../depth/000667/000667.jpg, ../depth/000667/000667.npy\n",
      "Detecting objects using yolov8n\n",
      "Detecting objects using yolov8x\n"
     ]
    },
    {
     "name": "stderr",
     "output_type": "stream",
     "text": [
      "image 1/1 /home/zkr/experiments/yolo/test/000667.png: 224x640 3 cars, 647.2ms\n",
      "Speed: 0.4ms preprocess, 647.2ms inference, 0.9ms postprocess per image at shape (1, 3, 640, 640)\n",
      "\n"
     ]
    },
    {
     "name": "stdout",
     "output_type": "stream",
     "text": [
      "Detecting objects using yolov8x6\n"
     ]
    },
    {
     "name": "stderr",
     "output_type": "stream",
     "text": [
      "image 1/1 /home/zkr/experiments/yolo/test/000667.png: 448x1280 3 cars, 1 fire hydrant, 2139.1ms\n",
      "Speed: 1.5ms preprocess, 2139.1ms inference, 1.7ms postprocess per image at shape (1, 3, 1280, 1280)\n",
      "\n",
      "image 1/1 /home/zkr/experiments/yolo/test/000777.png: 224x640 3 cars, 3 traffic lights, 49.3ms\n",
      "Speed: 0.5ms preprocess, 49.3ms inference, 0.9ms postprocess per image at shape (1, 3, 640, 640)\n",
      "\n"
     ]
    },
    {
     "name": "stdout",
     "output_type": "stream",
     "text": [
      "Processing ../test/000777.png: ../depth/000777/000777.jpg, ../depth/000777/000777.npy\n",
      "Detecting objects using yolov8n\n",
      "Detecting objects using yolov8x\n"
     ]
    },
    {
     "name": "stderr",
     "output_type": "stream",
     "text": [
      "image 1/1 /home/zkr/experiments/yolo/test/000777.png: 224x640 6 cars, 2 traffic lights, 728.8ms\n",
      "Speed: 0.4ms preprocess, 728.8ms inference, 0.8ms postprocess per image at shape (1, 3, 640, 640)\n",
      "\n"
     ]
    },
    {
     "name": "stdout",
     "output_type": "stream",
     "text": [
      "Detecting objects using yolov8x6\n"
     ]
    },
    {
     "name": "stderr",
     "output_type": "stream",
     "text": [
      "image 1/1 /home/zkr/experiments/yolo/test/000777.png: 448x1280 10 cars, 4 traffic lights, 2053.8ms\n",
      "Speed: 1.4ms preprocess, 2053.8ms inference, 1.2ms postprocess per image at shape (1, 3, 1280, 1280)\n",
      "\n",
      "image 1/1 /home/zkr/experiments/yolo/test/0000000006.png: 192x640 (no detections), 48.1ms\n",
      "Speed: 0.4ms preprocess, 48.1ms inference, 0.4ms postprocess per image at shape (1, 3, 640, 640)\n",
      "\n"
     ]
    },
    {
     "name": "stdout",
     "output_type": "stream",
     "text": [
      "Processing ../test/0000000006.png: ../depth/0000000006/0000000006.jpg, ../depth/0000000006/0000000006.npy\n",
      "Detecting objects using yolov8n\n",
      "Detecting objects using yolov8x\n"
     ]
    },
    {
     "name": "stderr",
     "output_type": "stream",
     "text": [
      "image 1/1 /home/zkr/experiments/yolo/test/0000000006.png: 192x640 (no detections), 484.2ms\n",
      "Speed: 0.3ms preprocess, 484.2ms inference, 0.4ms postprocess per image at shape (1, 3, 640, 640)\n",
      "\n"
     ]
    },
    {
     "name": "stdout",
     "output_type": "stream",
     "text": [
      "Detecting objects using yolov8x6\n"
     ]
    },
    {
     "name": "stderr",
     "output_type": "stream",
     "text": [
      "image 1/1 /home/zkr/experiments/yolo/test/0000000006.png: 384x1280 (no detections), 1628.7ms\n",
      "Speed: 1.2ms preprocess, 1628.7ms inference, 0.6ms postprocess per image at shape (1, 3, 1280, 1280)\n",
      "\n",
      "image 1/1 /home/zkr/experiments/yolo/test/000217.png: 224x640 1 person, 6 cars, 1 bus, 2 trucks, 51.1ms\n",
      "Speed: 0.6ms preprocess, 51.1ms inference, 0.9ms postprocess per image at shape (1, 3, 640, 640)\n",
      "\n"
     ]
    },
    {
     "name": "stdout",
     "output_type": "stream",
     "text": [
      "Processing ../test/000217.png: ../depth/000217/000217.jpg, ../depth/000217/000217.npy\n",
      "Detecting objects using yolov8n\n",
      "Detecting objects using yolov8x\n"
     ]
    },
    {
     "name": "stderr",
     "output_type": "stream",
     "text": [
      "image 1/1 /home/zkr/experiments/yolo/test/000217.png: 224x640 6 cars, 3 trucks, 538.6ms\n",
      "Speed: 0.4ms preprocess, 538.6ms inference, 0.9ms postprocess per image at shape (1, 3, 640, 640)\n",
      "\n"
     ]
    },
    {
     "name": "stdout",
     "output_type": "stream",
     "text": [
      "Detecting objects using yolov8x6\n"
     ]
    },
    {
     "name": "stderr",
     "output_type": "stream",
     "text": [
      "image 1/1 /home/zkr/experiments/yolo/test/000217.png: 448x1280 9 cars, 4 trucks, 2063.1ms\n",
      "Speed: 1.3ms preprocess, 2063.1ms inference, 1.9ms postprocess per image at shape (1, 3, 1280, 1280)\n",
      "\n",
      "image 1/1 /home/zkr/experiments/yolo/test/000447.png: 224x640 6 cars, 1 bus, 54.7ms\n",
      "Speed: 0.4ms preprocess, 54.7ms inference, 1.0ms postprocess per image at shape (1, 3, 640, 640)\n",
      "\n"
     ]
    },
    {
     "name": "stdout",
     "output_type": "stream",
     "text": [
      "Processing ../test/000447.png: ../depth/000447/000447.jpg, ../depth/000447/000447.npy\n",
      "Detecting objects using yolov8n\n",
      "Detecting objects using yolov8x\n"
     ]
    },
    {
     "name": "stderr",
     "output_type": "stream",
     "text": [
      "image 1/1 /home/zkr/experiments/yolo/test/000447.png: 224x640 9 cars, 1 truck, 514.2ms\n",
      "Speed: 0.4ms preprocess, 514.2ms inference, 1.0ms postprocess per image at shape (1, 3, 640, 640)\n",
      "\n"
     ]
    },
    {
     "name": "stdout",
     "output_type": "stream",
     "text": [
      "Detecting objects using yolov8x6\n"
     ]
    },
    {
     "name": "stderr",
     "output_type": "stream",
     "text": [
      "image 1/1 /home/zkr/experiments/yolo/test/000447.png: 448x1280 10 cars, 2 trucks, 2134.0ms\n",
      "Speed: 1.3ms preprocess, 2134.0ms inference, 1.3ms postprocess per image at shape (1, 3, 1280, 1280)\n",
      "\n",
      "image 1/1 /home/zkr/experiments/yolo/test/000257.png: 224x640 2 bicycles, 4 cars, 1 bus, 3 trucks, 52.9ms\n",
      "Speed: 0.5ms preprocess, 52.9ms inference, 1.0ms postprocess per image at shape (1, 3, 640, 640)\n",
      "\n"
     ]
    },
    {
     "name": "stdout",
     "output_type": "stream",
     "text": [
      "Processing ../test/000257.png: ../depth/000257/000257.jpg, ../depth/000257/000257.npy\n",
      "Detecting objects using yolov8n\n",
      "Detecting objects using yolov8x\n"
     ]
    },
    {
     "name": "stderr",
     "output_type": "stream",
     "text": [
      "image 1/1 /home/zkr/experiments/yolo/test/000257.png: 224x640 1 bicycle, 3 cars, 2 buss, 2 trucks, 583.2ms\n",
      "Speed: 0.6ms preprocess, 583.2ms inference, 1.4ms postprocess per image at shape (1, 3, 640, 640)\n",
      "\n"
     ]
    },
    {
     "name": "stdout",
     "output_type": "stream",
     "text": [
      "Detecting objects using yolov8x6\n"
     ]
    },
    {
     "name": "stderr",
     "output_type": "stream",
     "text": [
      "image 1/1 /home/zkr/experiments/yolo/test/000257.png: 448x1280 1 bicycle, 3 cars, 1 bus, 3 trucks, 2155.5ms\n",
      "Speed: 1.5ms preprocess, 2155.5ms inference, 1.4ms postprocess per image at shape (1, 3, 1280, 1280)\n",
      "\n",
      "image 1/1 /home/zkr/experiments/yolo/test/000547.png: 224x640 6 cars, 52.3ms\n",
      "Speed: 0.4ms preprocess, 52.3ms inference, 0.9ms postprocess per image at shape (1, 3, 640, 640)\n",
      "\n"
     ]
    },
    {
     "name": "stdout",
     "output_type": "stream",
     "text": [
      "Processing ../test/000547.png: ../depth/000547/000547.jpg, ../depth/000547/000547.npy\n",
      "Detecting objects using yolov8n\n",
      "Detecting objects using yolov8x\n"
     ]
    },
    {
     "name": "stderr",
     "output_type": "stream",
     "text": [
      "image 1/1 /home/zkr/experiments/yolo/test/000547.png: 224x640 8 cars, 1 bus, 644.2ms\n",
      "Speed: 0.3ms preprocess, 644.2ms inference, 1.0ms postprocess per image at shape (1, 3, 640, 640)\n",
      "\n"
     ]
    },
    {
     "name": "stdout",
     "output_type": "stream",
     "text": [
      "Detecting objects using yolov8x6\n"
     ]
    },
    {
     "name": "stderr",
     "output_type": "stream",
     "text": [
      "image 1/1 /home/zkr/experiments/yolo/test/000547.png: 448x1280 8 cars, 1 bus, 1 stop sign, 1 parking meter, 2143.7ms\n",
      "Speed: 1.7ms preprocess, 2143.7ms inference, 1.6ms postprocess per image at shape (1, 3, 1280, 1280)\n",
      "\n",
      "image 1/1 /home/zkr/experiments/yolo/test/000627.png: 224x640 1 person, 5 cars, 1 bus, 49.0ms\n",
      "Speed: 0.3ms preprocess, 49.0ms inference, 0.9ms postprocess per image at shape (1, 3, 640, 640)\n",
      "\n"
     ]
    },
    {
     "name": "stdout",
     "output_type": "stream",
     "text": [
      "Processing ../test/000627.png: ../depth/000627/000627.jpg, ../depth/000627/000627.npy\n",
      "Detecting objects using yolov8n\n",
      "Detecting objects using yolov8x\n"
     ]
    },
    {
     "name": "stderr",
     "output_type": "stream",
     "text": [
      "image 1/1 /home/zkr/experiments/yolo/test/000627.png: 224x640 6 cars, 1 bus, 587.6ms\n",
      "Speed: 0.5ms preprocess, 587.6ms inference, 1.0ms postprocess per image at shape (1, 3, 640, 640)\n",
      "\n"
     ]
    },
    {
     "name": "stdout",
     "output_type": "stream",
     "text": [
      "Detecting objects using yolov8x6\n"
     ]
    },
    {
     "name": "stderr",
     "output_type": "stream",
     "text": [
      "image 1/1 /home/zkr/experiments/yolo/test/000627.png: 448x1280 4 cars, 1 bus, 2074.5ms\n",
      "Speed: 1.4ms preprocess, 2074.5ms inference, 1.1ms postprocess per image at shape (1, 3, 1280, 1280)\n",
      "\n",
      "image 1/1 /home/zkr/experiments/yolo/test/000527.png: 224x640 4 cars, 1 bus, 1 truck, 54.0ms\n",
      "Speed: 0.4ms preprocess, 54.0ms inference, 0.9ms postprocess per image at shape (1, 3, 640, 640)\n",
      "\n"
     ]
    },
    {
     "name": "stdout",
     "output_type": "stream",
     "text": [
      "Processing ../test/000527.png: ../depth/000527/000527.jpg, ../depth/000527/000527.npy\n",
      "Detecting objects using yolov8n\n",
      "Detecting objects using yolov8x\n"
     ]
    },
    {
     "name": "stderr",
     "output_type": "stream",
     "text": [
      "image 1/1 /home/zkr/experiments/yolo/test/000527.png: 224x640 5 cars, 2 trucks, 616.8ms\n",
      "Speed: 0.5ms preprocess, 616.8ms inference, 0.9ms postprocess per image at shape (1, 3, 640, 640)\n",
      "\n"
     ]
    },
    {
     "name": "stdout",
     "output_type": "stream",
     "text": [
      "Detecting objects using yolov8x6\n"
     ]
    },
    {
     "name": "stderr",
     "output_type": "stream",
     "text": [
      "image 1/1 /home/zkr/experiments/yolo/test/000527.png: 448x1280 7 cars, 1 bus, 2 trucks, 2084.2ms\n",
      "Speed: 1.9ms preprocess, 2084.2ms inference, 1.1ms postprocess per image at shape (1, 3, 1280, 1280)\n",
      "\n",
      "image 1/1 /home/zkr/experiments/yolo/test/000077.png: 224x640 8 cars, 55.1ms\n",
      "Speed: 0.3ms preprocess, 55.1ms inference, 0.9ms postprocess per image at shape (1, 3, 640, 640)\n",
      "\n"
     ]
    },
    {
     "name": "stdout",
     "output_type": "stream",
     "text": [
      "Processing ../test/000077.png: ../depth/000077/000077.jpg, ../depth/000077/000077.npy\n",
      "Detecting objects using yolov8n\n",
      "Detecting objects using yolov8x\n"
     ]
    },
    {
     "name": "stderr",
     "output_type": "stream",
     "text": [
      "image 1/1 /home/zkr/experiments/yolo/test/000077.png: 224x640 10 cars, 580.8ms\n",
      "Speed: 0.5ms preprocess, 580.8ms inference, 1.0ms postprocess per image at shape (1, 3, 640, 640)\n",
      "\n"
     ]
    },
    {
     "name": "stdout",
     "output_type": "stream",
     "text": [
      "Detecting objects using yolov8x6\n"
     ]
    },
    {
     "name": "stderr",
     "output_type": "stream",
     "text": [
      "image 1/1 /home/zkr/experiments/yolo/test/000077.png: 448x1280 12 cars, 2154.4ms\n",
      "Speed: 1.4ms preprocess, 2154.4ms inference, 1.2ms postprocess per image at shape (1, 3, 1280, 1280)\n",
      "\n",
      "image 1/1 /home/zkr/experiments/yolo/test/000147.png: 224x640 9 cars, 1 truck, 54.0ms\n",
      "Speed: 0.4ms preprocess, 54.0ms inference, 1.0ms postprocess per image at shape (1, 3, 640, 640)\n",
      "\n"
     ]
    },
    {
     "name": "stdout",
     "output_type": "stream",
     "text": [
      "Processing ../test/000147.png: ../depth/000147/000147.jpg, ../depth/000147/000147.npy\n",
      "Detecting objects using yolov8n\n",
      "Detecting objects using yolov8x\n"
     ]
    },
    {
     "name": "stderr",
     "output_type": "stream",
     "text": [
      "image 1/1 /home/zkr/experiments/yolo/test/000147.png: 224x640 11 cars, 1 truck, 547.6ms\n",
      "Speed: 0.4ms preprocess, 547.6ms inference, 0.9ms postprocess per image at shape (1, 3, 640, 640)\n",
      "\n"
     ]
    },
    {
     "name": "stdout",
     "output_type": "stream",
     "text": [
      "Detecting objects using yolov8x6\n"
     ]
    },
    {
     "name": "stderr",
     "output_type": "stream",
     "text": [
      "image 1/1 /home/zkr/experiments/yolo/test/000147.png: 448x1280 11 cars, 4 trucks, 2071.6ms\n",
      "Speed: 2.0ms preprocess, 2071.6ms inference, 1.2ms postprocess per image at shape (1, 3, 1280, 1280)\n",
      "\n",
      "image 1/1 /home/zkr/experiments/yolo/test/000467.png: 224x640 9 cars, 1 truck, 55.2ms\n",
      "Speed: 0.4ms preprocess, 55.2ms inference, 1.1ms postprocess per image at shape (1, 3, 640, 640)\n",
      "\n"
     ]
    },
    {
     "name": "stdout",
     "output_type": "stream",
     "text": [
      "Processing ../test/000467.png: ../depth/000467/000467.jpg, ../depth/000467/000467.npy\n",
      "Detecting objects using yolov8n\n",
      "Detecting objects using yolov8x\n"
     ]
    },
    {
     "name": "stderr",
     "output_type": "stream",
     "text": [
      "image 1/1 /home/zkr/experiments/yolo/test/000467.png: 224x640 1 bicycle, 10 cars, 1 truck, 561.7ms\n",
      "Speed: 0.4ms preprocess, 561.7ms inference, 0.9ms postprocess per image at shape (1, 3, 640, 640)\n",
      "\n"
     ]
    },
    {
     "name": "stdout",
     "output_type": "stream",
     "text": [
      "Detecting objects using yolov8x6\n"
     ]
    },
    {
     "name": "stderr",
     "output_type": "stream",
     "text": [
      "image 1/1 /home/zkr/experiments/yolo/test/000467.png: 448x1280 8 cars, 2 trucks, 2207.4ms\n",
      "Speed: 1.6ms preprocess, 2207.4ms inference, 1.5ms postprocess per image at shape (1, 3, 1280, 1280)\n",
      "\n",
      "image 1/1 /home/zkr/experiments/yolo/test/000317.png: 224x640 3 cars, 1 bus, 1 truck, 53.8ms\n",
      "Speed: 0.5ms preprocess, 53.8ms inference, 1.4ms postprocess per image at shape (1, 3, 640, 640)\n",
      "\n"
     ]
    },
    {
     "name": "stdout",
     "output_type": "stream",
     "text": [
      "Processing ../test/000317.png: ../depth/000317/000317.jpg, ../depth/000317/000317.npy\n",
      "Detecting objects using yolov8n\n",
      "Detecting objects using yolov8x\n"
     ]
    },
    {
     "name": "stderr",
     "output_type": "stream",
     "text": [
      "image 1/1 /home/zkr/experiments/yolo/test/000317.png: 224x640 5 cars, 1 bus, 631.1ms\n",
      "Speed: 0.4ms preprocess, 631.1ms inference, 1.3ms postprocess per image at shape (1, 3, 640, 640)\n",
      "\n"
     ]
    },
    {
     "name": "stdout",
     "output_type": "stream",
     "text": [
      "Detecting objects using yolov8x6\n"
     ]
    },
    {
     "name": "stderr",
     "output_type": "stream",
     "text": [
      "image 1/1 /home/zkr/experiments/yolo/test/000317.png: 448x1280 5 cars, 1 bus, 2006.5ms\n",
      "Speed: 2.1ms preprocess, 2006.5ms inference, 1.9ms postprocess per image at shape (1, 3, 1280, 1280)\n",
      "\n",
      "image 1/1 /home/zkr/experiments/yolo/test/000227.png: 224x640 6 cars, 2 trucks, 52.9ms\n",
      "Speed: 0.4ms preprocess, 52.9ms inference, 0.8ms postprocess per image at shape (1, 3, 640, 640)\n",
      "\n"
     ]
    },
    {
     "name": "stdout",
     "output_type": "stream",
     "text": [
      "Processing ../test/000227.png: ../depth/000227/000227.jpg, ../depth/000227/000227.npy\n",
      "Detecting objects using yolov8n\n",
      "Detecting objects using yolov8x\n"
     ]
    },
    {
     "name": "stderr",
     "output_type": "stream",
     "text": [
      "image 1/1 /home/zkr/experiments/yolo/test/000227.png: 224x640 8 cars, 3 trucks, 531.2ms\n",
      "Speed: 0.4ms preprocess, 531.2ms inference, 1.3ms postprocess per image at shape (1, 3, 640, 640)\n",
      "\n"
     ]
    },
    {
     "name": "stdout",
     "output_type": "stream",
     "text": [
      "Detecting objects using yolov8x6\n"
     ]
    },
    {
     "name": "stderr",
     "output_type": "stream",
     "text": [
      "image 1/1 /home/zkr/experiments/yolo/test/000227.png: 448x1280 9 cars, 5 trucks, 2161.8ms\n",
      "Speed: 1.7ms preprocess, 2161.8ms inference, 1.3ms postprocess per image at shape (1, 3, 1280, 1280)\n",
      "\n",
      "image 1/1 /home/zkr/experiments/yolo/test/000037.png: 224x640 7 cars, 53.5ms\n",
      "Speed: 0.5ms preprocess, 53.5ms inference, 0.9ms postprocess per image at shape (1, 3, 640, 640)\n",
      "\n"
     ]
    },
    {
     "name": "stdout",
     "output_type": "stream",
     "text": [
      "Processing ../test/000037.png: ../depth/000037/000037.jpg, ../depth/000037/000037.npy\n",
      "Detecting objects using yolov8n\n",
      "Detecting objects using yolov8x\n"
     ]
    },
    {
     "name": "stderr",
     "output_type": "stream",
     "text": [
      "image 1/1 /home/zkr/experiments/yolo/test/000037.png: 224x640 14 cars, 536.9ms\n",
      "Speed: 0.3ms preprocess, 536.9ms inference, 0.9ms postprocess per image at shape (1, 3, 640, 640)\n",
      "\n"
     ]
    },
    {
     "name": "stdout",
     "output_type": "stream",
     "text": [
      "Detecting objects using yolov8x6\n"
     ]
    },
    {
     "name": "stderr",
     "output_type": "stream",
     "text": [
      "image 1/1 /home/zkr/experiments/yolo/test/000037.png: 448x1280 16 cars, 1 bus, 2191.4ms\n",
      "Speed: 1.8ms preprocess, 2191.4ms inference, 1.4ms postprocess per image at shape (1, 3, 1280, 1280)\n",
      "\n",
      "image 1/1 /home/zkr/experiments/yolo/test/000097.png: 224x640 9 cars, 50.5ms\n",
      "Speed: 0.4ms preprocess, 50.5ms inference, 1.0ms postprocess per image at shape (1, 3, 640, 640)\n",
      "\n"
     ]
    },
    {
     "name": "stdout",
     "output_type": "stream",
     "text": [
      "Processing ../test/000097.png: ../depth/000097/000097.jpg, ../depth/000097/000097.npy\n",
      "Detecting objects using yolov8n\n",
      "Detecting objects using yolov8x\n"
     ]
    },
    {
     "name": "stderr",
     "output_type": "stream",
     "text": [
      "image 1/1 /home/zkr/experiments/yolo/test/000097.png: 224x640 10 cars, 1 truck, 516.2ms\n",
      "Speed: 0.4ms preprocess, 516.2ms inference, 0.9ms postprocess per image at shape (1, 3, 640, 640)\n",
      "\n"
     ]
    },
    {
     "name": "stdout",
     "output_type": "stream",
     "text": [
      "Detecting objects using yolov8x6\n"
     ]
    },
    {
     "name": "stderr",
     "output_type": "stream",
     "text": [
      "image 1/1 /home/zkr/experiments/yolo/test/000097.png: 448x1280 14 cars, 2 trucks, 2241.3ms\n",
      "Speed: 1.7ms preprocess, 2241.3ms inference, 1.3ms postprocess per image at shape (1, 3, 1280, 1280)\n",
      "\n",
      "image 1/1 /home/zkr/experiments/yolo/test/000107.png: 224x640 10 cars, 51.1ms\n",
      "Speed: 0.4ms preprocess, 51.1ms inference, 0.9ms postprocess per image at shape (1, 3, 640, 640)\n",
      "\n"
     ]
    },
    {
     "name": "stdout",
     "output_type": "stream",
     "text": [
      "Processing ../test/000107.png: ../depth/000107/000107.jpg, ../depth/000107/000107.npy\n",
      "Detecting objects using yolov8n\n",
      "Detecting objects using yolov8x\n"
     ]
    },
    {
     "name": "stderr",
     "output_type": "stream",
     "text": [
      "image 1/1 /home/zkr/experiments/yolo/test/000107.png: 224x640 1 person, 10 cars, 1 truck, 592.5ms\n",
      "Speed: 0.4ms preprocess, 592.5ms inference, 0.9ms postprocess per image at shape (1, 3, 640, 640)\n",
      "\n"
     ]
    },
    {
     "name": "stdout",
     "output_type": "stream",
     "text": [
      "Detecting objects using yolov8x6\n"
     ]
    },
    {
     "name": "stderr",
     "output_type": "stream",
     "text": [
      "image 1/1 /home/zkr/experiments/yolo/test/000107.png: 448x1280 12 cars, 1 truck, 2233.3ms\n",
      "Speed: 1.4ms preprocess, 2233.3ms inference, 1.3ms postprocess per image at shape (1, 3, 1280, 1280)\n",
      "\n",
      "image 1/1 /home/zkr/experiments/yolo/test/000367.png: 224x640 9 cars, 52.3ms\n",
      "Speed: 0.4ms preprocess, 52.3ms inference, 1.0ms postprocess per image at shape (1, 3, 640, 640)\n",
      "\n"
     ]
    },
    {
     "name": "stdout",
     "output_type": "stream",
     "text": [
      "Processing ../test/000367.png: ../depth/000367/000367.jpg, ../depth/000367/000367.npy\n",
      "Detecting objects using yolov8n\n",
      "Detecting objects using yolov8x\n"
     ]
    },
    {
     "name": "stderr",
     "output_type": "stream",
     "text": [
      "image 1/1 /home/zkr/experiments/yolo/test/000367.png: 224x640 9 cars, 1 truck, 556.3ms\n",
      "Speed: 0.6ms preprocess, 556.3ms inference, 0.9ms postprocess per image at shape (1, 3, 640, 640)\n",
      "\n"
     ]
    },
    {
     "name": "stdout",
     "output_type": "stream",
     "text": [
      "Detecting objects using yolov8x6\n"
     ]
    },
    {
     "name": "stderr",
     "output_type": "stream",
     "text": [
      "image 1/1 /home/zkr/experiments/yolo/test/000367.png: 448x1280 10 cars, 1 truck, 2252.6ms\n",
      "Speed: 1.5ms preprocess, 2252.6ms inference, 1.3ms postprocess per image at shape (1, 3, 1280, 1280)\n",
      "\n",
      "image 1/1 /home/zkr/experiments/yolo/test/000537.png: 224x640 5 cars, 1 truck, 57.8ms\n",
      "Speed: 0.4ms preprocess, 57.8ms inference, 0.9ms postprocess per image at shape (1, 3, 640, 640)\n",
      "\n"
     ]
    },
    {
     "name": "stdout",
     "output_type": "stream",
     "text": [
      "Processing ../test/000537.png: ../depth/000537/000537.jpg, ../depth/000537/000537.npy\n",
      "Detecting objects using yolov8n\n",
      "Detecting objects using yolov8x\n"
     ]
    },
    {
     "name": "stderr",
     "output_type": "stream",
     "text": [
      "image 1/1 /home/zkr/experiments/yolo/test/000537.png: 224x640 7 cars, 1 bus, 2 trucks, 592.5ms\n",
      "Speed: 0.5ms preprocess, 592.5ms inference, 0.9ms postprocess per image at shape (1, 3, 640, 640)\n",
      "\n"
     ]
    },
    {
     "name": "stdout",
     "output_type": "stream",
     "text": [
      "Detecting objects using yolov8x6\n"
     ]
    },
    {
     "name": "stderr",
     "output_type": "stream",
     "text": [
      "image 1/1 /home/zkr/experiments/yolo/test/000537.png: 448x1280 7 cars, 1 bus, 1 truck, 2158.6ms\n",
      "Speed: 1.4ms preprocess, 2158.6ms inference, 1.4ms postprocess per image at shape (1, 3, 1280, 1280)\n",
      "\n",
      "image 1/1 /home/zkr/experiments/yolo/test/000717.png: 224x640 2 cars, 53.5ms\n",
      "Speed: 0.4ms preprocess, 53.5ms inference, 1.0ms postprocess per image at shape (1, 3, 640, 640)\n",
      "\n"
     ]
    },
    {
     "name": "stdout",
     "output_type": "stream",
     "text": [
      "Processing ../test/000717.png: ../depth/000717/000717.jpg, ../depth/000717/000717.npy\n",
      "Detecting objects using yolov8n\n",
      "Detecting objects using yolov8x\n"
     ]
    },
    {
     "name": "stderr",
     "output_type": "stream",
     "text": [
      "image 1/1 /home/zkr/experiments/yolo/test/000717.png: 224x640 2 cars, 558.1ms\n",
      "Speed: 0.4ms preprocess, 558.1ms inference, 0.9ms postprocess per image at shape (1, 3, 640, 640)\n",
      "\n"
     ]
    },
    {
     "name": "stdout",
     "output_type": "stream",
     "text": [
      "Detecting objects using yolov8x6\n"
     ]
    },
    {
     "name": "stderr",
     "output_type": "stream",
     "text": [
      "image 1/1 /home/zkr/experiments/yolo/test/000717.png: 448x1280 5 cars, 2431.2ms\n",
      "Speed: 1.8ms preprocess, 2431.2ms inference, 1.2ms postprocess per image at shape (1, 3, 1280, 1280)\n",
      "\n",
      "image 1/1 /home/zkr/experiments/yolo/test/000567.png: 224x640 9 cars, 1 truck, 1 stop sign, 46.3ms\n",
      "Speed: 0.4ms preprocess, 46.3ms inference, 1.0ms postprocess per image at shape (1, 3, 640, 640)\n",
      "\n"
     ]
    },
    {
     "name": "stdout",
     "output_type": "stream",
     "text": [
      "Processing ../test/000567.png: ../depth/000567/000567.jpg, ../depth/000567/000567.npy\n",
      "Detecting objects using yolov8n\n",
      "Detecting objects using yolov8x\n"
     ]
    },
    {
     "name": "stderr",
     "output_type": "stream",
     "text": [
      "image 1/1 /home/zkr/experiments/yolo/test/000567.png: 224x640 10 cars, 2 buss, 1 truck, 573.4ms\n",
      "Speed: 0.5ms preprocess, 573.4ms inference, 0.9ms postprocess per image at shape (1, 3, 640, 640)\n",
      "\n"
     ]
    },
    {
     "name": "stdout",
     "output_type": "stream",
     "text": [
      "Detecting objects using yolov8x6\n"
     ]
    },
    {
     "name": "stderr",
     "output_type": "stream",
     "text": [
      "image 1/1 /home/zkr/experiments/yolo/test/000567.png: 448x1280 11 cars, 3 buss, 2183.6ms\n",
      "Speed: 1.7ms preprocess, 2183.6ms inference, 1.2ms postprocess per image at shape (1, 3, 1280, 1280)\n",
      "\n",
      "image 1/1 /home/zkr/experiments/yolo/test/000437.png: 224x640 5 cars, 1 truck, 57.4ms\n",
      "Speed: 0.7ms preprocess, 57.4ms inference, 1.1ms postprocess per image at shape (1, 3, 640, 640)\n",
      "\n"
     ]
    },
    {
     "name": "stdout",
     "output_type": "stream",
     "text": [
      "Processing ../test/000437.png: ../depth/000437/000437.jpg, ../depth/000437/000437.npy\n",
      "Detecting objects using yolov8n\n",
      "Detecting objects using yolov8x\n"
     ]
    },
    {
     "name": "stderr",
     "output_type": "stream",
     "text": [
      "image 1/1 /home/zkr/experiments/yolo/test/000437.png: 224x640 6 cars, 1 bus, 584.1ms\n",
      "Speed: 0.4ms preprocess, 584.1ms inference, 0.9ms postprocess per image at shape (1, 3, 640, 640)\n",
      "\n"
     ]
    },
    {
     "name": "stdout",
     "output_type": "stream",
     "text": [
      "Detecting objects using yolov8x6\n"
     ]
    },
    {
     "name": "stderr",
     "output_type": "stream",
     "text": [
      "image 1/1 /home/zkr/experiments/yolo/test/000437.png: 448x1280 8 cars, 1 bus, 1 truck, 2055.2ms\n",
      "Speed: 1.8ms preprocess, 2055.2ms inference, 1.1ms postprocess per image at shape (1, 3, 1280, 1280)\n",
      "\n",
      "image 1/1 /home/zkr/experiments/yolo/test/0000000000.png: 192x640 1 train, 44.8ms\n",
      "Speed: 0.8ms preprocess, 44.8ms inference, 0.9ms postprocess per image at shape (1, 3, 640, 640)\n",
      "\n"
     ]
    },
    {
     "name": "stdout",
     "output_type": "stream",
     "text": [
      "Processing ../test/0000000000.png: ../depth/0000000000/0000000000.jpg, ../depth/0000000000/0000000000.npy\n",
      "Detecting objects using yolov8n\n",
      "Detecting objects using yolov8x\n"
     ]
    },
    {
     "name": "stderr",
     "output_type": "stream",
     "text": [
      "image 1/1 /home/zkr/experiments/yolo/test/0000000000.png: 192x640 1 train, 478.3ms\n",
      "Speed: 0.3ms preprocess, 478.3ms inference, 0.9ms postprocess per image at shape (1, 3, 640, 640)\n",
      "\n"
     ]
    },
    {
     "name": "stdout",
     "output_type": "stream",
     "text": [
      "Detecting objects using yolov8x6\n"
     ]
    },
    {
     "name": "stderr",
     "output_type": "stream",
     "text": [
      "image 1/1 /home/zkr/experiments/yolo/test/0000000000.png: 384x1280 1 stop sign, 1880.2ms\n",
      "Speed: 1.2ms preprocess, 1880.2ms inference, 1.1ms postprocess per image at shape (1, 3, 1280, 1280)\n",
      "\n",
      "image 1/1 /home/zkr/experiments/yolo/test/0000000004.png: 192x640 (no detections), 52.8ms\n",
      "Speed: 0.3ms preprocess, 52.8ms inference, 0.6ms postprocess per image at shape (1, 3, 640, 640)\n",
      "\n"
     ]
    },
    {
     "name": "stdout",
     "output_type": "stream",
     "text": [
      "Processing ../test/0000000004.png: ../depth/0000000004/0000000004.jpg, ../depth/0000000004/0000000004.npy\n",
      "Detecting objects using yolov8n\n",
      "Detecting objects using yolov8x\n"
     ]
    },
    {
     "name": "stderr",
     "output_type": "stream",
     "text": [
      "image 1/1 /home/zkr/experiments/yolo/test/0000000004.png: 192x640 (no detections), 609.3ms\n",
      "Speed: 0.3ms preprocess, 609.3ms inference, 0.4ms postprocess per image at shape (1, 3, 640, 640)\n",
      "\n"
     ]
    },
    {
     "name": "stdout",
     "output_type": "stream",
     "text": [
      "Detecting objects using yolov8x6\n"
     ]
    },
    {
     "name": "stderr",
     "output_type": "stream",
     "text": [
      "image 1/1 /home/zkr/experiments/yolo/test/0000000004.png: 384x1280 1 car, 1828.4ms\n",
      "Speed: 2.2ms preprocess, 1828.4ms inference, 1.1ms postprocess per image at shape (1, 3, 1280, 1280)\n",
      "\n",
      "image 1/1 /home/zkr/experiments/yolo/test/000047.png: 224x640 8 cars, 52.4ms\n",
      "Speed: 0.3ms preprocess, 52.4ms inference, 1.5ms postprocess per image at shape (1, 3, 640, 640)\n",
      "\n"
     ]
    },
    {
     "name": "stdout",
     "output_type": "stream",
     "text": [
      "Processing ../test/000047.png: ../depth/000047/000047.jpg, ../depth/000047/000047.npy\n",
      "Detecting objects using yolov8n\n",
      "Detecting objects using yolov8x\n"
     ]
    },
    {
     "name": "stderr",
     "output_type": "stream",
     "text": [
      "image 1/1 /home/zkr/experiments/yolo/test/000047.png: 224x640 12 cars, 793.6ms\n",
      "Speed: 0.4ms preprocess, 793.6ms inference, 1.1ms postprocess per image at shape (1, 3, 640, 640)\n",
      "\n"
     ]
    },
    {
     "name": "stdout",
     "output_type": "stream",
     "text": [
      "Detecting objects using yolov8x6\n"
     ]
    },
    {
     "name": "stderr",
     "output_type": "stream",
     "text": [
      "image 1/1 /home/zkr/experiments/yolo/test/000047.png: 448x1280 15 cars, 2895.9ms\n",
      "Speed: 1.5ms preprocess, 2895.9ms inference, 1.2ms postprocess per image at shape (1, 3, 1280, 1280)\n",
      "\n",
      "image 1/1 /home/zkr/experiments/yolo/test/000247.png: 224x640 5 cars, 2 trucks, 53.6ms\n",
      "Speed: 0.5ms preprocess, 53.6ms inference, 1.4ms postprocess per image at shape (1, 3, 640, 640)\n",
      "\n"
     ]
    },
    {
     "name": "stdout",
     "output_type": "stream",
     "text": [
      "Processing ../test/000247.png: ../depth/000247/000247.jpg, ../depth/000247/000247.npy\n",
      "Detecting objects using yolov8n\n",
      "Detecting objects using yolov8x\n"
     ]
    },
    {
     "name": "stderr",
     "output_type": "stream",
     "text": [
      "image 1/1 /home/zkr/experiments/yolo/test/000247.png: 224x640 1 bicycle, 4 cars, 2 buss, 2 trucks, 1403.5ms\n",
      "Speed: 0.4ms preprocess, 1403.5ms inference, 1.0ms postprocess per image at shape (1, 3, 640, 640)\n",
      "\n"
     ]
    },
    {
     "name": "stdout",
     "output_type": "stream",
     "text": [
      "Detecting objects using yolov8x6\n"
     ]
    },
    {
     "name": "stderr",
     "output_type": "stream",
     "text": [
      "image 1/1 /home/zkr/experiments/yolo/test/000247.png: 448x1280 1 bicycle, 3 cars, 4 trucks, 2908.3ms\n",
      "Speed: 1.5ms preprocess, 2908.3ms inference, 2.0ms postprocess per image at shape (1, 3, 1280, 1280)\n"
     ]
    }
   ],
   "source": [
    "if __name__ == \"__main__\":\n",
    "    main()"
   ],
   "metadata": {
    "collapsed": false,
    "ExecuteTime": {
     "start_time": "2023-04-10T09:32:16.129555Z",
     "end_time": "2023-04-10T09:37:52.223503Z"
    }
   }
  },
  {
   "cell_type": "code",
   "execution_count": null,
   "outputs": [],
   "source": [],
   "metadata": {
    "collapsed": false
   }
  }
 ],
 "metadata": {
  "kernelspec": {
   "display_name": "Python 3",
   "language": "python",
   "name": "python3"
  },
  "language_info": {
   "codemirror_mode": {
    "name": "ipython",
    "version": 2
   },
   "file_extension": ".py",
   "mimetype": "text/x-python",
   "name": "python",
   "nbconvert_exporter": "python",
   "pygments_lexer": "ipython2",
   "version": "2.7.6"
  }
 },
 "nbformat": 4,
 "nbformat_minor": 0
}
